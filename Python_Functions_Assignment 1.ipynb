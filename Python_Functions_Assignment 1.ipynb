{
 "cells": [
  {
   "cell_type": "markdown",
   "id": "8246dabe",
   "metadata": {},
   "source": [
    "                           Python Functions (assignment-1)"
   ]
  },
  {
   "cell_type": "markdown",
   "id": "ac69ec59",
   "metadata": {},
   "source": [
    "1. In Python, what is the difference between a built-in function and a user-defined function? Provide an\n",
    "example of each."
   ]
  },
  {
   "cell_type": "markdown",
   "id": "46ed4d2b",
   "metadata": {},
   "source": [
    "1. Built-in functions: These are functions that are already predefined in Python like print(), min(), len(),pop(),\n",
    "    del(),def() etc.\n",
    "2. User-defined functions: These are the functions that programmers create and use at the places where they need them.\n",
    "example:     "
   ]
  },
  {
   "cell_type": "code",
   "execution_count": 1,
   "id": "4ab5845f",
   "metadata": {},
   "outputs": [
    {
     "name": "stdout",
     "output_type": "stream",
     "text": [
      "18\n"
     ]
    }
   ],
   "source": [
    "def add(a,b):\n",
    "    sum=a+b\n",
    "    print(sum)\n",
    "add(9,9)"
   ]
  },
  {
   "cell_type": "code",
   "execution_count": null,
   "id": "4b904fcb",
   "metadata": {},
   "outputs": [],
   "source": []
  },
  {
   "cell_type": "markdown",
   "id": "43beac61",
   "metadata": {},
   "source": [
    "2. How can you pass arguments to a function in Python? Explain the difference between positional\n",
    "arguments and keyword arguments."
   ]
  },
  {
   "cell_type": "markdown",
   "id": "32e5f45a",
   "metadata": {},
   "source": [
    "We can define a function, and in any program  we can pass arguments, which we have created.\n",
    "\n",
    "A positional argument, that is not followed by an equal sign (=) and default value. \n",
    "A keyword argument ,is followed by an equal sign and an expression."
   ]
  },
  {
   "cell_type": "code",
   "execution_count": null,
   "id": "f4108027",
   "metadata": {},
   "outputs": [],
   "source": []
  },
  {
   "cell_type": "markdown",
   "id": "dffae98c",
   "metadata": {},
   "source": [
    "3. What is the purpose of the return statement in a function? Can a function have multiple return\n",
    "statements? Explain with an example."
   ]
  },
  {
   "cell_type": "markdown",
   "id": "9b793fda",
   "metadata": {},
   "source": [
    "The return statement,returns to the statement where the function was called. \n",
    "Python functions can return multiple variables. These variables can be stored in variables directly.\n",
    "it can return  one, two or more variables.\n",
    "\n",
    "Example:"
   ]
  },
  {
   "cell_type": "code",
   "execution_count": 2,
   "id": "0f7a3a3a",
   "metadata": {},
   "outputs": [
    {
     "name": "stdout",
     "output_type": "stream",
     "text": [
      "kp\n",
      "20\n",
      "India\n"
     ]
    }
   ],
   "source": [
    "def Person():\n",
    "    name = \"kp\"\n",
    "    age = 20\n",
    "    country = \"India\"\n",
    "    return name,age,country\n",
    "\n",
    "name,age,country = Person()\n",
    "print(name)\n",
    "print(age)\n",
    "print(country)"
   ]
  },
  {
   "cell_type": "code",
   "execution_count": null,
   "id": "fa156010",
   "metadata": {},
   "outputs": [],
   "source": []
  },
  {
   "cell_type": "markdown",
   "id": "b850d25f",
   "metadata": {},
   "source": [
    "4. What are lambda functions in Python? How are they different from regular functions? Provide an\n",
    "example where a lambda function can be useful."
   ]
  },
  {
   "cell_type": "markdown",
   "id": "1dba3448",
   "metadata": {},
   "source": [
    "Lambda functions are defined using the keyword ‘lambda’ rather than the ‘def’ keyword. The properties of lambda functions are:\n",
    "\n",
    "1. These can take any number of arguments but can return only one value.\n",
    "\n",
    "2. Because it requires an expression, it cannot be directly called in a print statement.\n",
    "\n",
    "3. Like any other function, these have their own namespace.\n",
    "\n",
    "Example:"
   ]
  },
  {
   "cell_type": "code",
   "execution_count": 3,
   "id": "733431d1",
   "metadata": {},
   "outputs": [
    {
     "name": "stdout",
     "output_type": "stream",
     "text": [
      "10\n"
     ]
    }
   ],
   "source": [
    "add=lambda x,y:x+y\n",
    "print(add(6,4))"
   ]
  },
  {
   "cell_type": "code",
   "execution_count": null,
   "id": "b0889d47",
   "metadata": {},
   "outputs": [],
   "source": []
  },
  {
   "cell_type": "markdown",
   "id": "7d943765",
   "metadata": {},
   "source": [
    "5. How does the concept of \"scope\" apply to functions in Python? Explain the difference between local\n",
    "scope and global scope."
   ]
  },
  {
   "cell_type": "markdown",
   "id": "1e2a0ced",
   "metadata": {},
   "source": [
    "We can access the variable in the region of scope.A variable cannot be accessed from everywhere in the program. \n",
    "Its scope depends on the region where it is created. \n",
    "\n",
    "   In local scope, we should create the variable inside the function,so that we can acess within the function.\n",
    "   In global scope,we should create the variable outside the function,so that we can acess anywhere through out the program."
   ]
  },
  {
   "cell_type": "markdown",
   "id": "f8366025",
   "metadata": {},
   "source": []
  },
  {
   "cell_type": "markdown",
   "id": "912fa41d",
   "metadata": {},
   "source": [
    "6. How can you use the \"return\" statement in a Python function to return multiple values?"
   ]
  },
  {
   "cell_type": "markdown",
   "id": "e237cea0",
   "metadata": {},
   "source": [
    "The return statement,returns to the statement where the function was called. \n",
    "\n",
    "Example:"
   ]
  },
  {
   "cell_type": "code",
   "execution_count": 4,
   "id": "cee76526",
   "metadata": {},
   "outputs": [
    {
     "name": "stdout",
     "output_type": "stream",
     "text": [
      "kp\n",
      "20\n",
      "India\n"
     ]
    }
   ],
   "source": [
    "def Person():\n",
    "    name = \"kp\"\n",
    "    age = 20\n",
    "    country = \"India\"\n",
    "    return name,age,country\n",
    "\n",
    "name,age,country = Person()\n",
    "print(name)\n",
    "print(age)\n",
    "print(country)"
   ]
  },
  {
   "cell_type": "code",
   "execution_count": null,
   "id": "b4c1f71b",
   "metadata": {},
   "outputs": [],
   "source": []
  },
  {
   "cell_type": "markdown",
   "id": "6a0d8226",
   "metadata": {},
   "source": [
    "7. What is the difference between the \"pass by value\" and \"pass by reference\" concepts when it\n",
    "comes to function arguments in Python?"
   ]
  },
  {
   "cell_type": "markdown",
   "id": "e4372cc8",
   "metadata": {},
   "source": [
    "All the arguments in Python are passed by reference. This means that rather than just the value of the variable, \n",
    "we pass the address of the variable as an input to function. This is the reason when we modify the variable \n",
    "inside the function,the value gets reflected globally."
   ]
  },
  {
   "cell_type": "code",
   "execution_count": null,
   "id": "2f333bdc",
   "metadata": {},
   "outputs": [],
   "source": []
  },
  {
   "cell_type": "markdown",
   "id": "8f926074",
   "metadata": {},
   "source": [
    "8. Create a function that can intake integer or decimal value and do following operations:\n",
    "a. Logarithmic function (log x)\n",
    "b. Exponential function (exp(x))\n",
    "c. Power function with base 2 (2x)\n",
    "d. Square root"
   ]
  },
  {
   "cell_type": "code",
   "execution_count": 17,
   "id": "fed1a308",
   "metadata": {},
   "outputs": [
    {
     "name": "stdout",
     "output_type": "stream",
     "text": [
      "enter any number: 2\n",
      "The log value of 2.0 is 0.6931471805599453\n",
      "The exponential value of 2.0 is 7.38905609893065\n",
      "The power value of 2.0 is 8.0\n",
      "The square value of 2.0 is 1.4142135623730951\n"
     ]
    }
   ],
   "source": [
    "def operations():\n",
    "    import math\n",
    "    x=float(input(\"enter any number: \"))\n",
    "    #logarithm:\n",
    "    log_value=math.log(x)\n",
    "    print(\"The log value of\", x, \"is\",log_value)\n",
    "    #exponential function:\n",
    "    exp_value=math.exp(x)\n",
    "    print(\"The exponential value of\",x,\"is\",exp_value)\n",
    "    pow_value=2*(pow(2,x))\n",
    "    print(\"The power value of\",x,\"is\",pow_value)\n",
    "    squ_value=math.sqrt(x)\n",
    "    print(\"The square value of\",x,\"is\",squ_value)\n",
    "operations()    "
   ]
  },
  {
   "cell_type": "code",
   "execution_count": null,
   "id": "a59b67a5",
   "metadata": {},
   "outputs": [],
   "source": []
  },
  {
   "cell_type": "markdown",
   "id": "afae32d1",
   "metadata": {},
   "source": [
    "9. Create a function that takes a full name as an argument and returns first name and last name."
   ]
  },
  {
   "cell_type": "code",
   "execution_count": 31,
   "id": "c2324030",
   "metadata": {},
   "outputs": [
    {
     "name": "stdout",
     "output_type": "stream",
     "text": [
      "first name is krishna\n",
      "last name is priya\n"
     ]
    }
   ],
   "source": [
    "def person(full_name):\n",
    "    split_name=(full_name.split(\"_\"))\n",
    "    print(\"first name is\",split_name[0])\n",
    "    print(\"last name is\",split_name[1])\n",
    "    \n",
    "person('krishna_priya')\n"
   ]
  }
 ],
 "metadata": {
  "kernelspec": {
   "display_name": "Python 3 (ipykernel)",
   "language": "python",
   "name": "python3"
  },
  "language_info": {
   "codemirror_mode": {
    "name": "ipython",
    "version": 3
   },
   "file_extension": ".py",
   "mimetype": "text/x-python",
   "name": "python",
   "nbconvert_exporter": "python",
   "pygments_lexer": "ipython3",
   "version": "3.9.12"
  }
 },
 "nbformat": 4,
 "nbformat_minor": 5
}
