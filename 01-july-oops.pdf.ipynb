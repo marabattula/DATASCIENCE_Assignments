{
 "cells": [
  {
   "cell_type": "markdown",
   "id": "760f0334",
   "metadata": {},
   "source": [
    "                                             01_July_OOps.pdf"
   ]
  },
  {
   "cell_type": "markdown",
   "id": "31a49e29",
   "metadata": {},
   "source": [
    "1. What is the primary goal of Object-Oriented Programming (OOP)?"
   ]
  },
  {
   "cell_type": "markdown",
   "id": "42d079c3",
   "metadata": {},
   "source": [
    "1. object oriented programming allows decomposition of problem into a number of entities called objects and then build data and functions around these objects. i.e, object-oriented programming(OOP) is a programming paradigm in which programs are designed using classes and objects.\n",
    "\n",
    "2. Data structures re designed such that they chracterize the objects.\n",
    "\n",
    "3. Functions that operate on the data of an object are tied together in the data structure.\n",
    "\n",
    "4. New data and functions can be easily added whenever necessary.\n",
    "\n",
    "5. Code reusablity\n",
    "\n",
    "6. OOP provides a way to design your program that makes it reusable,secure,stable,and easy to understand."
   ]
  },
  {
   "cell_type": "markdown",
   "id": "715e7a8a",
   "metadata": {},
   "source": [
    "2. What is an object in Python?"
   ]
  },
  {
   "cell_type": "markdown",
   "id": "300e481a",
   "metadata": {},
   "source": [
    "1. Objects are basic run time entities in an object-oriented system.\n",
    "\n",
    "2. They are installation of the class.\n",
    "\n",
    "3. It may represent a person,place,an item,an account that the program hs to handle.\n",
    "\n",
    "4. It has attributes and methods.\n",
    "\n",
    "Eg:Object student has name, age,id_no and so on. And methods like learning,going to college, sleeping,diet and so on."
   ]
  },
  {
   "cell_type": "code",
   "execution_count": null,
   "id": "1e2d77f1",
   "metadata": {},
   "outputs": [],
   "source": [
    "#Eg:\n",
    "Class Person:\n",
    "    pass          #created an empty class\n",
    "\n",
    "person1 = Person() #created an object(person1)"
   ]
  },
  {
   "cell_type": "code",
   "execution_count": null,
   "id": "7e931207",
   "metadata": {},
   "outputs": [],
   "source": []
  },
  {
   "cell_type": "markdown",
   "id": "8f57cb59",
   "metadata": {},
   "source": [
    "3. What is a class in Python?"
   ]
  },
  {
   "cell_type": "markdown",
   "id": "4174f698",
   "metadata": {},
   "source": [
    "1. Classes are blueprints or direction on how to create an object.\n",
    "2. once a class has been defined, we can create n number of objects belonging to that class.\n",
    "3. Each object is associated with data of type class with which they are created.Thus a class is a collection objects of similar type.\n",
    " For EG: class fruit has members orange, apple, banana\n",
    "4. Parent class and child class or Base class and derived class."
   ]
  },
  {
   "cell_type": "code",
   "execution_count": null,
   "id": "64306f5e",
   "metadata": {},
   "outputs": [],
   "source": []
  },
  {
   "cell_type": "markdown",
   "id": "dbe9be11",
   "metadata": {},
   "source": [
    "4. What are attributes and methods in a class?"
   ]
  },
  {
   "cell_type": "markdown",
   "id": "ffa5efd0",
   "metadata": {},
   "source": [
    "1. Class attributes are the attributes that belong to class itself rather than a particular object.Usually,we use class attributes that have a common value among all the objects inside the class.\n",
    "for eg:\n",
    "   A class person will contains attributes attributes like name,age,weight,height,etc.\n",
    "   \n",
    "2. Class methods are the methods that have access to the class attributes,but they can't access specific instance attributes.\n",
    "In other words,these methods are used to handle and process class attributes.However, they are not used on the object level,\n",
    "they are used in the class level.\n",
    "\n",
    "For eg:A class student will have methods or functionalities like Entered_college(),Exit_college(),Attendence(),performance()"
   ]
  },
  {
   "cell_type": "code",
   "execution_count": null,
   "id": "6d393bbd",
   "metadata": {},
   "outputs": [],
   "source": []
  },
  {
   "cell_type": "markdown",
   "id": "b07e624f",
   "metadata": {},
   "source": [
    "5.What is the difference between class variables and instance variables in python?"
   ]
  },
  {
   "cell_type": "markdown",
   "id": "78455077",
   "metadata": {},
   "source": [
    "1. Class variables:\n",
    "    class varible has the same data for all instances of a class.\n",
    "    class variables are defined within the class but outside of any class methods.\n",
    "    changes made to the class variable affect all instances.\n",
    "    class variables can be initialized either inside the class definition or outside the class definition.\n",
    "    class variables are accessed using the class name,followed by the variable name.\n",
    "    class varibles are useful for storing data that is shared among all instances of a class,such as constants or default \n",
    "    values.\n",
    "    \n",
    "2. Instance variable:\n",
    "    A instance variable has unique data for all instances of a class.\n",
    "    Instance variables are defined within class methods,typically the constructor.\n",
    "    Changes made to the instance variable does not affect all instances.\n",
    "    Instance variables are typically initialized in the constructor of the class.\n",
    "    Instance vriables are accessed using the instance name,followed by the variable name\n"
   ]
  },
  {
   "cell_type": "code",
   "execution_count": null,
   "id": "7838f369",
   "metadata": {},
   "outputs": [],
   "source": [
    "#Eg:\n",
    "\n",
    "Class Employee:\n",
    "    bonus = 10000                                                  #class variable\n",
    "    \n",
    "    def employee(self,employee_name,employee_id,salary):\n",
    "        self.employee_name = employee_name                           #instnce variable\n",
    "        self.employee_id   = employee_id\n",
    "        slef.salary        = salary"
   ]
  },
  {
   "cell_type": "code",
   "execution_count": null,
   "id": "c587c307",
   "metadata": {},
   "outputs": [],
   "source": []
  },
  {
   "cell_type": "markdown",
   "id": "b52e62b5",
   "metadata": {},
   "source": [
    "6. What is the purpose of the self parameter in Python class methods?"
   ]
  },
  {
   "cell_type": "markdown",
   "id": "531cc790",
   "metadata": {},
   "source": [
    "1. self is a keyword used to refer to the particular object/instance.\n",
    "2. The self method is explicitily used every time we define a method.\n",
    "3. It is also used to refer to a variable field within class.\n",
    "4. With this keyword,you can access the attributes and methods of the class in python.It binds the attributes with the given\n",
    "arguments.\n",
    "5. We can create class without self keyword,but for the simplicity its better to use \"self\" to acess the varibles."
   ]
  },
  {
   "cell_type": "code",
   "execution_count": null,
   "id": "e251ccc8",
   "metadata": {},
   "outputs": [],
   "source": []
  },
  {
   "cell_type": "markdown",
   "id": "53882153",
   "metadata": {},
   "source": [
    "7. For a library management system, you have to design the \"Book\" class with OOP\n",
    "principles in mind. The “Book” class will have following attributes:\n",
    "a. title: Represents the title of the book.\n",
    "b. author: Represents the author(s) of the book.\n",
    "c. isbn: Represents the ISBN (International Standard Book Number) of the book.\n",
    "d. publication_year: Represents the year of publication of the book.\n",
    "e. available_copies: Represents the number of copies available for checkout.\n",
    "The class will also include the following methods:\n",
    "a. check_out(self): Decrements the available copies by one if there are copies\n",
    "available for checkout.\n",
    "b. return_book(self): Increments the available copies by one when a book is\n",
    "returned.\n",
    "c. display_book_info(self): Displays the information about the book, including its\n",
    "attributes and the number of available copies."
   ]
  },
  {
   "cell_type": "code",
   "execution_count": 34,
   "id": "c810e617",
   "metadata": {},
   "outputs": [],
   "source": [
    "class Book:\n",
    "    \n",
    "        def __init__(self,title,author,isbn,publication_year,available_copies):\n",
    "            self.title            = title\n",
    "            self.author           = author\n",
    "            self.isbn             = isbn\n",
    "            self.publication_year = publication_year\n",
    "            self.available_copies = available_copies\n",
    "        def check_out(self):\n",
    "            print(f'The Book \"{self.title}\" has {self.available_copies} copies ')\n",
    "            if self.available_copies >=1:\n",
    "                print(f'{self.title} is availble check_out')\n",
    "                self.available_copies = self.available_copies - 1\n",
    "            else:\n",
    "                print('sorry! there is no available copy left.Try another book.')\n",
    "        def return_book(self):\n",
    "            self.availble_copies = self.available_copies + 1\n",
    "            print('Thank you for returning the book!')\n",
    "        def display_book_info(self):\n",
    "            print(f\"details \")\n",
    "            print(\"..................................\")\n",
    "            print(f\"Title of Book:                                      {self.title}\")\n",
    "            print(f\"Author(S):                                          {self.author}\")\n",
    "            print(f\"ISBN(interntionl standard book number)of the book:  {self.isbn}\")\n",
    "            print(f\"The year of publication of the book:                {self.publication_year}\")\n",
    "            print(f\"The number of copies available for check out:       {self.available_copies}\")    "
   ]
  },
  {
   "cell_type": "code",
   "execution_count": 35,
   "id": "6de94312",
   "metadata": {},
   "outputs": [],
   "source": [
    "Book1 = Book('The alchemist',\"Kpriya\",\"0-123-890\",1978,9)\n",
    "Book2 = Book('Department56',\"Paul\",\"89765-8976\",2006,0)\n",
    "Book3 = Book('Statistics',['S.C.Chandra','A.B.kiran'],\"7890-567\",2004,8)"
   ]
  },
  {
   "cell_type": "code",
   "execution_count": 36,
   "id": "5aa0bfe4",
   "metadata": {},
   "outputs": [
    {
     "name": "stdout",
     "output_type": "stream",
     "text": [
      "The Book \"The alchemist\" has 9 copies \n",
      "The alchemist is availble check_out\n"
     ]
    }
   ],
   "source": [
    "Book1.check_out()"
   ]
  },
  {
   "cell_type": "code",
   "execution_count": 37,
   "id": "31b5c572",
   "metadata": {},
   "outputs": [
    {
     "name": "stdout",
     "output_type": "stream",
     "text": [
      "The Book \"Department56\" has 0 copies \n",
      "sorry! there is no available copy left.Try another book.\n"
     ]
    }
   ],
   "source": [
    "Book2.check_out()"
   ]
  },
  {
   "cell_type": "code",
   "execution_count": 38,
   "id": "fdd16ae4",
   "metadata": {},
   "outputs": [
    {
     "name": "stdout",
     "output_type": "stream",
     "text": [
      "Thank you for returning the book!\n"
     ]
    }
   ],
   "source": [
    "Book2.return_book()"
   ]
  },
  {
   "cell_type": "code",
   "execution_count": 39,
   "id": "8fcc387e",
   "metadata": {},
   "outputs": [
    {
     "name": "stdout",
     "output_type": "stream",
     "text": [
      "details \n",
      "..................................\n",
      "Title of Book:                                      Statistics\n",
      "Author(S):                                          ['S.C.Chandra', 'A.B.kiran']\n",
      "ISBN(interntionl standard book number)of the book:  7890-567\n",
      "The year of publication of the book:                2004\n",
      "The number of copies available for check out:       8\n"
     ]
    }
   ],
   "source": [
    "Book3.display_book_info()"
   ]
  },
  {
   "cell_type": "code",
   "execution_count": null,
   "id": "11e05aba",
   "metadata": {},
   "outputs": [],
   "source": []
  },
  {
   "cell_type": "markdown",
   "id": "5298585f",
   "metadata": {},
   "source": [
    "8. For a ticket booking system, you have to design the \"Ticket\" class with OOP\n",
    "principles in mind. The “Ticket” class should have the following attributes:\n",
    "a. ticket_id: Represents the unique identifier for the ticket.\n",
    "b. event_name: Represents the name of the event.\n",
    "c. event_date: Represents the date of the event.\n",
    "d. venue: Represents the venue of the event.\n",
    "e. seat_number: Represents the seat number associated with the ticket.\n",
    "f. price: Represents the price of the ticket.\n",
    "g. is_reserved: Represents the reservation status of the ticket.\n",
    "The class also includes the following methods:\n",
    "a. reserve_ticket(self): Marks the ticket as reserved if it is not already reserved.\n",
    "b. cancel_reservation(self): Cancels the reservation of the ticket if it is already\n",
    "reserved.\n",
    "c. display_ticket_info(self): Displays the information about the ticket, including its\n",
    "attributes and reservation status.\n"
   ]
  },
  {
   "cell_type": "code",
   "execution_count": 13,
   "id": "da20b5dd",
   "metadata": {},
   "outputs": [],
   "source": [
    "class Ticket():\n",
    "    def __init__(self,ticket_id,event_name,event_date,venue,seat_number,price):\n",
    "        self.ticket_id   = ticket_id\n",
    "        self.event_name  = event_name\n",
    "        self.event_date  = event_date\n",
    "        self.venue       = venue\n",
    "        self.seat_number = seat_number\n",
    "        self.price       = price\n",
    "        self.is_reserved = False\n",
    "    def reserve_ticket(self):\n",
    "        if  self.is_reserved != True:\n",
    "            self.is_reserved = True\n",
    "            print(f'your ticket:{self.ticket_id} has been reserved')\n",
    "        else:\n",
    "            print(f'ticket:{self.ticket_id} is already reserved')\n",
    "    def cancel_reservation(self):\n",
    "        if self.is_reserved == True:\n",
    "            confirm = int(input(f\"Do you want to cancel the reservation for the ticket {self.ticket_id} (YES:1/NO:0)\"))\n",
    "            if confirm == 1:\n",
    "                print(f\"Reservation for the ticket:{self.ticket_id} has been cancelled\")\n",
    "                print(f\"{self.price} will not be refunded as per the t&C**\")      \n",
    "        else:\n",
    "            print(f\"{self.ticket_id} is not reserved.\")\n",
    "    def display_ticket_info(self):\n",
    "        print(f'welcome to {self.event_name}')\n",
    "        print('.............................')\n",
    "        print('::::::::::::Ticket details::::::::::')\n",
    "        print(f'Ticket Id          : {self.ticket_id}')\n",
    "        print(f'venue              : {self.venue}')\n",
    "        print(f'Date               : {self.event_date}')\n",
    "        print(f'seat number        : {self.seat_number}')\n",
    "        print(f'price              : {self.price}')\n",
    "        print(f'Reservation status : {self.is_reserved}')\n",
    "        print(\"come let's enjoy together\")     "
   ]
  },
  {
   "cell_type": "code",
   "execution_count": 14,
   "id": "34ea79b0",
   "metadata": {},
   "outputs": [],
   "source": [
    "Ticket1 = Ticket(12345,\"Musical chair!\",\"aug 1, tuesday\",\"Hall\",56,250)\n",
    "Ticket2 = Ticket(67890,\"Musical chair!\",\"aug 1, tuesday\",\"Hall\",89,250)"
   ]
  },
  {
   "cell_type": "code",
   "execution_count": 15,
   "id": "89ee88d9",
   "metadata": {},
   "outputs": [
    {
     "name": "stdout",
     "output_type": "stream",
     "text": [
      "your ticket:12345 has been reserved\n"
     ]
    }
   ],
   "source": [
    "Ticket1.reserve_ticket()"
   ]
  },
  {
   "cell_type": "code",
   "execution_count": 16,
   "id": "ac9077e5",
   "metadata": {},
   "outputs": [
    {
     "name": "stdout",
     "output_type": "stream",
     "text": [
      "your ticket:67890 has been reserved\n"
     ]
    }
   ],
   "source": [
    "Ticket2.reserve_ticket()"
   ]
  },
  {
   "cell_type": "code",
   "execution_count": 17,
   "id": "c803a137",
   "metadata": {},
   "outputs": [
    {
     "name": "stdout",
     "output_type": "stream",
     "text": [
      "ticket:12345 is already reserved\n"
     ]
    }
   ],
   "source": [
    "Ticket1.reserve_ticket()"
   ]
  },
  {
   "cell_type": "code",
   "execution_count": 18,
   "id": "706b4d81",
   "metadata": {},
   "outputs": [
    {
     "name": "stdout",
     "output_type": "stream",
     "text": [
      "ticket:67890 is already reserved\n"
     ]
    }
   ],
   "source": [
    "Ticket2.reserve_ticket()"
   ]
  },
  {
   "cell_type": "code",
   "execution_count": 19,
   "id": "86df219f",
   "metadata": {},
   "outputs": [
    {
     "name": "stdout",
     "output_type": "stream",
     "text": [
      "Do you want to cancel the reservation for the ticket 12345 (YES:1/NO:0)1\n",
      "Reservation for the ticket:12345 has been cancelled\n",
      "250 will not be refunded as per the t&C**\n"
     ]
    }
   ],
   "source": [
    "Ticket1.cancel_reservation()"
   ]
  },
  {
   "cell_type": "code",
   "execution_count": 20,
   "id": "e72440e2",
   "metadata": {},
   "outputs": [
    {
     "name": "stdout",
     "output_type": "stream",
     "text": [
      "Do you want to cancel the reservation for the ticket 67890 (YES:1/NO:0)1\n",
      "Reservation for the ticket:67890 has been cancelled\n",
      "250 will not be refunded as per the t&C**\n"
     ]
    }
   ],
   "source": [
    "Ticket2.cancel_reservation()"
   ]
  },
  {
   "cell_type": "code",
   "execution_count": 21,
   "id": "a7b289d2",
   "metadata": {},
   "outputs": [
    {
     "name": "stdout",
     "output_type": "stream",
     "text": [
      "welcome to Musical chair!\n",
      ".............................\n",
      "::::::::::::Ticket details::::::::::\n",
      "Ticket Id          : 12345\n",
      "venue              : Hall\n",
      "Date               : aug 1, tuesday\n",
      "seat number        : 56\n",
      "price              : 250\n",
      "Reservation status : True\n",
      "come let's enjoy together\n"
     ]
    }
   ],
   "source": [
    "Ticket1.display_ticket_info()"
   ]
  },
  {
   "cell_type": "code",
   "execution_count": 23,
   "id": "24a0d484",
   "metadata": {},
   "outputs": [
    {
     "name": "stdout",
     "output_type": "stream",
     "text": [
      "welcome to Musical chair!\n",
      ".............................\n",
      "::::::::::::Ticket details::::::::::\n",
      "Ticket Id          : 67890\n",
      "venue              : Hall\n",
      "Date               : aug 1, tuesday\n",
      "seat number        : 89\n",
      "price              : 250\n",
      "Reservation status : True\n",
      "come let's enjoy together\n"
     ]
    }
   ],
   "source": [
    "Ticket2.display_ticket_info()"
   ]
  },
  {
   "cell_type": "code",
   "execution_count": null,
   "id": "40979db5",
   "metadata": {},
   "outputs": [],
   "source": []
  },
  {
   "cell_type": "markdown",
   "id": "178c6c4b",
   "metadata": {},
   "source": [
    "9. You are creating a shopping cart for an e-commerce website. Using OOP to model\n",
    "the \"ShoppingCart\" functionality the class should contain following attributes and\n",
    "methods:\n",
    "a. items: Represents the list of items in the shopping cart.\n",
    "The class also includes the following methods:\n",
    "a. add_item(self, item): Adds an item to the shopping cart by appending it to the\n",
    "list of items.\n",
    "b. remove_item(self, item): Removes an item from the shopping cart if it exists in\n",
    "the list.\n",
    "c. view_cart(self): Displays the items currently present in the shopping cart.\n",
    "d. clear_cart(self): Clears all items from the shopping cart by reassigning an\n",
    "empty list to the items attribute."
   ]
  },
  {
   "cell_type": "code",
   "execution_count": 25,
   "id": "282081d3",
   "metadata": {},
   "outputs": [],
   "source": [
    "class shoppingCart:\n",
    "    def __init__(self):\n",
    "        self.items = []\n",
    "        \n",
    "    def add_item(self,item):\n",
    "        if item in self.items:\n",
    "            print(f\"{item} is already in your cart\")\n",
    "        else:\n",
    "            self.items.append(item)\n",
    "            print(f\"{item} has been added to your cart\")\n",
    "            \n",
    "    def remove_item(self,item):\n",
    "        if item in self.items:\n",
    "            self.items.remove(item)\n",
    "            print(f\"{item} has been removed from your cart\")\n",
    "        else:\n",
    "            print(\"No item found to remove\")\n",
    "            \n",
    "    def view_cart(self):\n",
    "        if self.items != []:\n",
    "            print(\"items in the cart are:\")\n",
    "            for i in self.items:\n",
    "                print(i)\n",
    "        else:\n",
    "            print(\"your cart is empty\")\n",
    "            \n",
    "    def clear_cart(self):\n",
    "        self.items = []  \n",
    "        print(\"your cart is empty now!\")\n",
    "            "
   ]
  },
  {
   "cell_type": "code",
   "execution_count": 26,
   "id": "f0d2536a",
   "metadata": {},
   "outputs": [],
   "source": [
    "#created 5 objects\n",
    "cart1 = shoppingCart()\n",
    "cart2 = shoppingCart()\n",
    "cart3 = shoppingCart()\n",
    "cart4 = shoppingCart()\n",
    "cart5 = shoppingCart()"
   ]
  },
  {
   "cell_type": "code",
   "execution_count": 27,
   "id": "05c3b9af",
   "metadata": {},
   "outputs": [
    {
     "name": "stdout",
     "output_type": "stream",
     "text": [
      "Bag has been added to your cart\n"
     ]
    }
   ],
   "source": [
    "cart1.add_item(\"Bag\")"
   ]
  },
  {
   "cell_type": "code",
   "execution_count": 28,
   "id": "5a6e57c9",
   "metadata": {},
   "outputs": [
    {
     "name": "stdout",
     "output_type": "stream",
     "text": [
      "shoe has been added to your cart\n"
     ]
    }
   ],
   "source": [
    "cart1.add_item(\"shoe\")"
   ]
  },
  {
   "cell_type": "code",
   "execution_count": 29,
   "id": "9e1a1e59",
   "metadata": {},
   "outputs": [
    {
     "name": "stdout",
     "output_type": "stream",
     "text": [
      "phone has been added to your cart\n"
     ]
    }
   ],
   "source": [
    "cart1.add_item(\"phone\")"
   ]
  },
  {
   "cell_type": "code",
   "execution_count": 30,
   "id": "708ff513",
   "metadata": {},
   "outputs": [
    {
     "name": "stdout",
     "output_type": "stream",
     "text": [
      "Bag is already in your cart\n"
     ]
    }
   ],
   "source": [
    "cart1.add_item(\"Bag\")"
   ]
  },
  {
   "cell_type": "code",
   "execution_count": 31,
   "id": "824cbf4e",
   "metadata": {},
   "outputs": [
    {
     "name": "stdout",
     "output_type": "stream",
     "text": [
      "shirt has been added to your cart\n"
     ]
    }
   ],
   "source": [
    "cart1.add_item(\"shirt\")"
   ]
  },
  {
   "cell_type": "code",
   "execution_count": 33,
   "id": "27c2f61f",
   "metadata": {},
   "outputs": [
    {
     "name": "stdout",
     "output_type": "stream",
     "text": [
      "shirt has been removed from your cart\n"
     ]
    }
   ],
   "source": [
    "cart1.remove_item(\"shirt\")"
   ]
  },
  {
   "cell_type": "code",
   "execution_count": 34,
   "id": "3a3973f0",
   "metadata": {},
   "outputs": [
    {
     "name": "stdout",
     "output_type": "stream",
     "text": [
      "No item found to remove\n"
     ]
    }
   ],
   "source": [
    "cart1.remove_item(\"laptop\")"
   ]
  },
  {
   "cell_type": "code",
   "execution_count": 36,
   "id": "f74b5bbd",
   "metadata": {},
   "outputs": [
    {
     "name": "stdout",
     "output_type": "stream",
     "text": [
      "items in the cart are:\n",
      "Bag\n",
      "shoe\n",
      "phone\n"
     ]
    }
   ],
   "source": [
    "cart1.view_cart()"
   ]
  },
  {
   "cell_type": "code",
   "execution_count": 37,
   "id": "93ae773a",
   "metadata": {},
   "outputs": [
    {
     "name": "stdout",
     "output_type": "stream",
     "text": [
      "your cart is empty now!\n"
     ]
    }
   ],
   "source": [
    "cart1.clear_cart()"
   ]
  },
  {
   "cell_type": "code",
   "execution_count": null,
   "id": "619d2f61",
   "metadata": {},
   "outputs": [],
   "source": []
  },
  {
   "cell_type": "code",
   "execution_count": null,
   "id": "a3e469ef",
   "metadata": {},
   "outputs": [],
   "source": [
    "10. Imagine a school management system. You have to design the \"Student\" class using\n",
    "OOP concepts.The “Student” class has the following attributes:\n",
    "a. name: Represents the name of the student.\n",
    "b. age: Represents the age of the student.\n",
    "c. grade: Represents the grade or class of the student.\n",
    "d. student_id: Represents the unique identifier for the student.\n",
    "e. attendance: Represents the attendance record of the student.\n",
    "The class should also include the following methods:\n",
    "a. update_attendance(self, date, status): Updates the attendance record of the\n",
    "student for a given date with the provided status (e.g., present or absent).\n",
    "b. get_attendance(self): Returns the attendance record of the student.\n",
    "c. get_average_attendance(self): Calculates and returns the average\n",
    "attendance percentage of the student based on their attendance record."
   ]
  },
  {
   "cell_type": "code",
   "execution_count": 84,
   "id": "32893905",
   "metadata": {},
   "outputs": [],
   "source": [
    "class Student:\n",
    "    def __init__(self,name,age,grade,student_id):\n",
    "        self.name        = name\n",
    "        self.age         = age\n",
    "        self.grade       = grade\n",
    "        self.student_id  = student_id\n",
    "        self.attendance  = {}\n",
    "        \n",
    "    def update_attendance(self, date, status): \n",
    "        self.attendance[date] = status\n",
    "        print(f\"Attendance {date} : {status} marked\")\n",
    "        \n",
    "    def get_attendance(self):\n",
    "        return self.attendance\n",
    "\n",
    "    def get_average_attendance(self):\n",
    "        \n",
    "        total_days = len(self.attendance)\n",
    "        no_of_present = sum(status == 'present' for status in self.attendance)\n",
    "        no_of_absents = total_days - no_of_present\n",
    "        average = (no_of_present / total_days) *100\n",
    "        print(f\"Attendance details of {self.name}\")\n",
    "        print(\".................................\")\n",
    "        print(f\"Attendance percentage : {average}% \")\n",
    "        print(f\"no.of days present: {no_of_present}\")\n",
    "        print(f\"Total working days : {total_days}\")\n",
    "        print(\"Attendance days wise:\")\n",
    "        return self.attendance"
   ]
  },
  {
   "cell_type": "code",
   "execution_count": 85,
   "id": "5901018d",
   "metadata": {},
   "outputs": [],
   "source": [
    "Student1 = Student(\"kp\",22,\"B\",2024)\n",
    "Student2 = Student(\"Gani\",21,\"A\",2334)"
   ]
  },
  {
   "cell_type": "code",
   "execution_count": 94,
   "id": "3b719d7e",
   "metadata": {},
   "outputs": [
    {
     "name": "stdout",
     "output_type": "stream",
     "text": [
      "Attendance 26-07-2023 : present marked\n",
      "Attendance 26-07-2023 : absent marked\n"
     ]
    }
   ],
   "source": [
    "Student1.update_attendance(\"26-07-2023\",\"present\")\n",
    "Student2.update_attendance(\"26-07-2023\",\"absent\")"
   ]
  },
  {
   "cell_type": "code",
   "execution_count": 87,
   "id": "03893810",
   "metadata": {},
   "outputs": [
    {
     "name": "stdout",
     "output_type": "stream",
     "text": [
      "Attendance 27-07-2023 : present marked\n",
      "Attendance 27-07-2023 : present marked\n"
     ]
    }
   ],
   "source": [
    "Student1.update_attendance(\"27-07-2023\",\"present\")\n",
    "Student2.update_attendance(\"27-07-2023\",\"present\")"
   ]
  },
  {
   "cell_type": "code",
   "execution_count": 88,
   "id": "f9955be0",
   "metadata": {},
   "outputs": [
    {
     "name": "stdout",
     "output_type": "stream",
     "text": [
      "Attendance 28-07-2023 : present marked\n",
      "Attendance 28-07-2023 : absent marked\n"
     ]
    }
   ],
   "source": [
    "Student1.update_attendance(\"28-07-2023\",\"present\")\n",
    "Student2.update_attendance(\"28-07-2023\",\"absent\")"
   ]
  },
  {
   "cell_type": "code",
   "execution_count": 89,
   "id": "4829e48d",
   "metadata": {},
   "outputs": [
    {
     "name": "stdout",
     "output_type": "stream",
     "text": [
      "Attendance 29-07-2023 : absent marked\n",
      "Attendance 29-07-2023 : present marked\n"
     ]
    }
   ],
   "source": [
    "Student1.update_attendance(\"29-07-2023\",\"absent\")\n",
    "Student2.update_attendance(\"29-07-2023\",\"present\")"
   ]
  },
  {
   "cell_type": "code",
   "execution_count": 90,
   "id": "5c8c37bf",
   "metadata": {},
   "outputs": [
    {
     "name": "stdout",
     "output_type": "stream",
     "text": [
      "Attendance 30-07-2023 : present marked\n",
      "Attendance 30-07-2023 : present marked\n"
     ]
    }
   ],
   "source": [
    "Student1.update_attendance(\"30-07-2023\",\"present\")\n",
    "Student2.update_attendance(\"30-07-2023\",\"present\")"
   ]
  },
  {
   "cell_type": "code",
   "execution_count": 91,
   "id": "289d34f4",
   "metadata": {},
   "outputs": [
    {
     "name": "stdout",
     "output_type": "stream",
     "text": [
      "Attendance 31-07-2023 : absent marked\n",
      "Attendance 31-07-2023 : present marked\n"
     ]
    }
   ],
   "source": [
    "Student1.update_attendance(\"31-07-2023\",\"absent\")\n",
    "Student2.update_attendance(\"31-07-2023\",\"present\")"
   ]
  },
  {
   "cell_type": "code",
   "execution_count": 92,
   "id": "89770b7f",
   "metadata": {},
   "outputs": [
    {
     "name": "stdout",
     "output_type": "stream",
     "text": [
      "Attendance 01-08-2023 : present marked\n",
      "Attendance 01-08-2023 : absent marked\n"
     ]
    }
   ],
   "source": [
    "Student1.update_attendance(\"01-08-2023\",\"present\")\n",
    "Student2.update_attendance(\"01-08-2023\",\"absent\")"
   ]
  },
  {
   "cell_type": "code",
   "execution_count": 95,
   "id": "40a762e0",
   "metadata": {},
   "outputs": [
    {
     "data": {
      "text/plain": [
       "{'01-08-2023': 'present',\n",
       " '27-07-2023': 'present',\n",
       " '28-07-2023': 'present',\n",
       " '29-07-2023': 'absent',\n",
       " '30-07-2023': 'present',\n",
       " '31-07-2023': 'absent',\n",
       " '26-07-2023': 'present'}"
      ]
     },
     "execution_count": 95,
     "metadata": {},
     "output_type": "execute_result"
    }
   ],
   "source": [
    "Student1.get_attendance()"
   ]
  },
  {
   "cell_type": "code",
   "execution_count": 96,
   "id": "3823e5a1",
   "metadata": {},
   "outputs": [
    {
     "data": {
      "text/plain": [
       "{'01-08-2023': 'absent',\n",
       " '27-07-2023': 'present',\n",
       " '28-07-2023': 'absent',\n",
       " '29-07-2023': 'present',\n",
       " '30-07-2023': 'present',\n",
       " '31-07-2023': 'present',\n",
       " '26-07-2023': 'absent'}"
      ]
     },
     "execution_count": 96,
     "metadata": {},
     "output_type": "execute_result"
    }
   ],
   "source": [
    "Student2.get_attendance()"
   ]
  },
  {
   "cell_type": "markdown",
   "id": "95afd3ab",
   "metadata": {},
   "source": [
    "                                 ....................................."
   ]
  }
 ],
 "metadata": {
  "kernelspec": {
   "display_name": "Python 3 (ipykernel)",
   "language": "python",
   "name": "python3"
  },
  "language_info": {
   "codemirror_mode": {
    "name": "ipython",
    "version": 3
   },
   "file_extension": ".py",
   "mimetype": "text/x-python",
   "name": "python",
   "nbconvert_exporter": "python",
   "pygments_lexer": "ipython3",
   "version": "3.9.12"
  }
 },
 "nbformat": 4,
 "nbformat_minor": 5
}
