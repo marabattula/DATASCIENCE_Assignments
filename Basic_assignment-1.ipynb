{
 "cells": [
  {
   "cell_type": "markdown",
   "id": "29f61b32",
   "metadata": {},
   "source": [
    "                                 python Basic-1"
   ]
  },
  {
   "cell_type": "markdown",
   "id": "d876805c",
   "metadata": {},
   "source": [
    "Q.1. What are keywords in python? Using the keyword library, print all the python keywords."
   ]
  },
  {
   "cell_type": "markdown",
   "id": "b66c3c05",
   "metadata": {},
   "source": [
    "Keywords in python are reserved words,that cannot be used as ordinary identifiers.They are used to define the \n",
    "syntax and structure of the python language.Keywords are immutable."
   ]
  },
  {
   "cell_type": "code",
   "execution_count": 4,
   "id": "d031008d",
   "metadata": {},
   "outputs": [
    {
     "name": "stdout",
     "output_type": "stream",
     "text": [
      "['False', 'None', 'True', '__peg_parser__', 'and', 'as', 'assert', 'async', 'await', 'break', 'class', 'continue', 'def', 'del', 'elif', 'else', 'except', 'finally', 'for', 'from', 'global', 'if', 'import', 'in', 'is', 'lambda', 'nonlocal', 'not', 'or', 'pass', 'raise', 'return', 'try', 'while', 'with', 'yield']\n"
     ]
    }
   ],
   "source": [
    "import keyword\n",
    "print(keyword.kwlist)"
   ]
  },
  {
   "cell_type": "code",
   "execution_count": null,
   "id": "5022eded",
   "metadata": {},
   "outputs": [],
   "source": []
  },
  {
   "cell_type": "markdown",
   "id": "37151091",
   "metadata": {},
   "source": [
    "Q.2. What are the rules to create variables in python?"
   ]
  },
  {
   "cell_type": "markdown",
   "id": "bb7bb34f",
   "metadata": {},
   "source": [
    "1. A python variable must start with letter or underscore(_)\n",
    "2. A python variable name cannot start with number.\n",
    "3. A python variable can only contain alpha-numeric characters and underscores.(a-z,0-9,_)\n",
    "4. Variable names are case-sensitive.(NAME,Name,name are three different variables)\n",
    "5. Keywords cannot be used as variable names in python"
   ]
  },
  {
   "cell_type": "code",
   "execution_count": null,
   "id": "0639dfeb",
   "metadata": {},
   "outputs": [],
   "source": []
  },
  {
   "cell_type": "markdown",
   "id": "23567edc",
   "metadata": {},
   "source": [
    "Q.3. What are the standards and conventions followed for the nomenclature of variables in\n",
    "python to improve code readability and maintainability?"
   ]
  },
  {
   "cell_type": "markdown",
   "id": "5e91a8db",
   "metadata": {},
   "source": [
    "For better understanding and maintenance of the code, we should follow some standards:\n",
    "1.Name of the module\n",
    "2.Date of module creation\n",
    "3.Author of the module\n",
    "4.Modification history\n",
    "5.Synopsis of the module about what the module does\n",
    "\n",
    "Naming conventions for local variables, global variables, constants and functions:\n",
    "Some of the naming conventions are given below:\n",
    "1.Meaningful and understandable variables name helps anyone to understand the reason of using it.\n",
    "2.Local variables should be named using camel case lettering starting with small letter (e.g. localData) \n",
    "  whereas Global variables names should start with a capital letter (e.g. GlobalData). \n",
    "  Constant names should be formed using capital letters only (e.g. CONSDATA).\n",
    "3.It is better to avoid the use of digits in variable names.\n",
    "4.The names of the function should be written in camel case starting with small letters.\n",
    "5.The name of the function must describe the reason of using the function clearly and briefly.\n"
   ]
  },
  {
   "cell_type": "code",
   "execution_count": null,
   "id": "ba4d7b74",
   "metadata": {},
   "outputs": [],
   "source": []
  },
  {
   "cell_type": "markdown",
   "id": "ad29ff37",
   "metadata": {},
   "source": [
    "Q.4. What will happen if a keyword is used as a variable name?"
   ]
  },
  {
   "cell_type": "markdown",
   "id": "d5802844",
   "metadata": {},
   "source": [
    "It will give syntax error, as shown in the below.For example, I'm assigning a value to \"False\",which is keyword."
   ]
  },
  {
   "cell_type": "code",
   "execution_count": 7,
   "id": "62f04833",
   "metadata": {},
   "outputs": [
    {
     "ename": "SyntaxError",
     "evalue": "cannot assign to False (3573262304.py, line 1)",
     "output_type": "error",
     "traceback": [
      "\u001b[1;36m  Input \u001b[1;32mIn [7]\u001b[1;36m\u001b[0m\n\u001b[1;33m    False=4\u001b[0m\n\u001b[1;37m    ^\u001b[0m\n\u001b[1;31mSyntaxError\u001b[0m\u001b[1;31m:\u001b[0m cannot assign to False\n"
     ]
    }
   ],
   "source": [
    "False=4\n",
    "print(False+1)"
   ]
  },
  {
   "cell_type": "code",
   "execution_count": null,
   "id": "e509fe33",
   "metadata": {},
   "outputs": [],
   "source": []
  },
  {
   "cell_type": "markdown",
   "id": "eacae0f2",
   "metadata": {},
   "source": [
    "Q.5. For what purpose def keyword is used?"
   ]
  },
  {
   "cell_type": "markdown",
   "id": "fd71257a",
   "metadata": {},
   "source": [
    "Python def keyword is used to define a function, it is placed before a function name that is provided by the user \n",
    "to create a user-defined function."
   ]
  },
  {
   "cell_type": "code",
   "execution_count": null,
   "id": "ddbaf150",
   "metadata": {},
   "outputs": [],
   "source": []
  },
  {
   "cell_type": "markdown",
   "id": "4c9eb878",
   "metadata": {},
   "source": [
    "Q.6. What is the operation of this special character ‘\\’?"
   ]
  },
  {
   "cell_type": "markdown",
   "id": "5df7856d",
   "metadata": {},
   "source": [
    "'/' is used to \"backslash or reverse solidus\""
   ]
  },
  {
   "cell_type": "code",
   "execution_count": null,
   "id": "bc286cec",
   "metadata": {},
   "outputs": [],
   "source": []
  },
  {
   "cell_type": "markdown",
   "id": "97e029fd",
   "metadata": {},
   "source": [
    "Q.7. Give an example of the following conditions:\n",
    "(i) Homogeneous list\n",
    "(ii) Heterogeneous set\n",
    "(iii) Homogeneous tuple"
   ]
  },
  {
   "cell_type": "markdown",
   "id": "0dfec732",
   "metadata": {},
   "source": [
    "(i) Homogeneous list:\n",
    "              there is nothing like homogeneous list in python, list can have heterogeneous elements.\n",
    "(ii) Heterogeneous set :\n",
    "         A set is unordered collection of items where every element is unique. Heterogenous, cannot have duplicates. Example is          shown below\n",
    "(iii) Homogeneous tuple:\n",
    "          There is nothing like Homogenous tuple in python, tuples can have  heterogenous elements."
   ]
  },
  {
   "cell_type": "code",
   "execution_count": 9,
   "id": "1ea12bec",
   "metadata": {},
   "outputs": [
    {
     "name": "stdout",
     "output_type": "stream",
     "text": [
      "{'red', 'blue', 'green'}\n"
     ]
    }
   ],
   "source": [
    "#Example(Hererogenous set):\n",
    "hetero_my_set={\"red\",\"green\",\"red\",\"blue\"}\n",
    "print(hetero_my_set)"
   ]
  },
  {
   "cell_type": "code",
   "execution_count": null,
   "id": "e5fb05d6",
   "metadata": {},
   "outputs": [],
   "source": []
  },
  {
   "cell_type": "markdown",
   "id": "1c3e569b",
   "metadata": {},
   "source": [
    "Q.8. Explain the mutable and immutable data types with proper explanation & examples."
   ]
  },
  {
   "cell_type": "markdown",
   "id": "dbe8a2f6",
   "metadata": {},
   "source": [
    "Mutable datatypes: \n",
    "    Mutable datatypes are datatypes which means they can be change after they created. They are list,dictionaries,sets.\n",
    "    \n",
    "(i) List:\n",
    "    A list in python is ordered collection of items.Lists are similar to arrays in other languages but with additional \n",
    "    functionality.A list is created by placing items inside square braces[], seperated by commas.\n",
    "\n",
    "Example:"
   ]
  },
  {
   "cell_type": "code",
   "execution_count": 10,
   "id": "6388b4f9",
   "metadata": {},
   "outputs": [
    {
     "name": "stdout",
     "output_type": "stream",
     "text": [
      "['apples', 'grapes', 'banana', 'orange']\n"
     ]
    }
   ],
   "source": [
    "fruits=[\"apples\",\"grapes\",\"banana\",\"orange\"]\n",
    "print(fruits)"
   ]
  },
  {
   "cell_type": "markdown",
   "id": "b81a556d",
   "metadata": {},
   "source": [
    "(ii) Dictionries:\n",
    "     A dictionary in python is unordered collection of items.Each item stored in a dictionary has a key and value, making it \n",
    "    a key-value pair.It is created by placing items(key-value) in between curly braces{},seperated by comms.Each item is a pair     madeup of key and a value seperated by colon(:).\n",
    "    \n",
    "Example:"
   ]
  },
  {
   "cell_type": "code",
   "execution_count": 13,
   "id": "5a1a6390",
   "metadata": {},
   "outputs": [
    {
     "name": "stdout",
     "output_type": "stream",
     "text": [
      "{'name': 'mobile', 'price': 20000, 'warrenty': 'two years', 'ram': '8gb', 'rom': 256}\n"
     ]
    }
   ],
   "source": [
    "Products={\"name\":\"mobile\",\"price\":20000,\"warrenty\":\"two years\",\"ram\":\"8gb\",\"rom\":256}\n",
    "print(Products)"
   ]
  },
  {
   "cell_type": "markdown",
   "id": "b6417879",
   "metadata": {},
   "source": [
    "(iii) sets:\n",
    "    A sets is unordered collection of items where every element is unique. Sets re heterogenous and cnnot have duplicates.\n",
    "    sets are created by placing item between curly braces{}.\n",
    "    \n",
    "Example:     "
   ]
  },
  {
   "cell_type": "code",
   "execution_count": 15,
   "id": "fba5cb69",
   "metadata": {},
   "outputs": [
    {
     "name": "stdout",
     "output_type": "stream",
     "text": [
      "{'yellow', 'red', 'green'}\n"
     ]
    }
   ],
   "source": [
    "Colour={\"red\",\"green\",\"yellow\",\"red\"}\n",
    "print(Colour)"
   ]
  },
  {
   "cell_type": "markdown",
   "id": "0b1766fb",
   "metadata": {},
   "source": [
    "Immutable datatypes:\n",
    "    Immutable datatypes are datatypes which means they cannot be change after they created.They are integer,float,string,\n",
    "boolean,tuple.\n",
    "(i) Integer:\n",
    "    Integer are whole numbers,without a fractional component.They can be positive or negative.\n",
    "\n",
    "Example: x=5\n",
    "\n",
    "(ii) Float:\n",
    "      Float represent real numbers and are written with a decimal point.\n",
    "      \n",
    "Example:\n",
    "    x=9.6\n",
    "   \n",
    "(iii) String:\n",
    "         strings in python are sequences of character data.They are created by enclosing chracters in quotes.\n",
    " \n",
    "Example:\n",
    "     x=\"Ram ganith\"\n",
    "     \n",
    "(iv) Boolean:\n",
    "         It represents of the two values i.e, True or False. It is used to represent the truth values of expressions"
   ]
  },
  {
   "cell_type": "code",
   "execution_count": null,
   "id": "6f047e64",
   "metadata": {},
   "outputs": [],
   "source": []
  },
  {
   "cell_type": "markdown",
   "id": "fc1f69f2",
   "metadata": {},
   "source": [
    "Q.9. Write a code to create the given structure using only for loop.\n",
    "    *\n",
    "   ***\n",
    "  *****\n",
    " *******\n",
    "*********"
   ]
  },
  {
   "cell_type": "code",
   "execution_count": 20,
   "id": "debba8e8",
   "metadata": {},
   "outputs": [
    {
     "name": "stdout",
     "output_type": "stream",
     "text": [
      "    *\n",
      "   ***\n",
      "  *****\n",
      " *******\n",
      "*********\n"
     ]
    }
   ],
   "source": [
    "n = 5\n",
    "for i in range(1, n+1):\n",
    "    for j in range(n - i):\n",
    "        print(' ', end='')\n",
    "    for k in range(2 * i - 1):\n",
    "        print('*', end='')\n",
    "    print()"
   ]
  }
 ],
 "metadata": {
  "kernelspec": {
   "display_name": "Python 3 (ipykernel)",
   "language": "python",
   "name": "python3"
  },
  "language_info": {
   "codemirror_mode": {
    "name": "ipython",
    "version": 3
   },
   "file_extension": ".py",
   "mimetype": "text/x-python",
   "name": "python",
   "nbconvert_exporter": "python",
   "pygments_lexer": "ipython3",
   "version": "3.9.12"
  }
 },
 "nbformat": 4,
 "nbformat_minor": 5
}
