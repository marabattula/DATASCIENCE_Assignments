{
 "cells": [
  {
   "cell_type": "markdown",
   "id": "7186cef7-61d7-413f-9239-2636b128e8bd",
   "metadata": {},
   "source": [
    "1. In the below elements which of them are values or an expression? eg:- values can be\n",
    "integer or string and expressions will be mathematical operators.\n",
    "*\n",
    "'hello'\n",
    "-87.8\n",
    "-\n",
    "/\n",
    "+\n",
    "6"
   ]
  },
  {
   "cell_type": "markdown",
   "id": "2bf19be6-bb58-49b9-834b-89c38b25ab3e",
   "metadata": {},
   "source": [
    "*,-,/,+ are expressions\n",
    "'hello', -87.8, 6 are values"
   ]
  },
  {
   "cell_type": "markdown",
   "id": "8da3628f-4c7a-4f39-943d-bd27878e4c7d",
   "metadata": {},
   "source": [
    "2. What is the difference between string and variable?"
   ]
  },
  {
   "cell_type": "code",
   "execution_count": 9,
   "id": "aa47d2bc-3c3c-47e6-9cc3-34c80c3106ca",
   "metadata": {},
   "outputs": [
    {
     "data": {
      "text/plain": [
       "'\\nstring: string is a python data type, which contains sequence of characters or character.They are created by enclosing chracters by quotes and string\\ncan start with alphabets , but not with digits and special characters.It should contain only alphabets,numbers,_ .  \\n  example:\\n         \"kp_123\"\\n\\nvariable: It is a named python location to store data in memory.\\n  example:\\n       a=5\\n'"
      ]
     },
     "execution_count": 9,
     "metadata": {},
     "output_type": "execute_result"
    }
   ],
   "source": [
    "\"\"\"\n",
    "string: string is a python data type, which contains sequence of characters or character.They are created by enclosing chracters by quotes and string\n",
    "can start with alphabets and  digits not with special characters.It should contain only alphabets,numbers,_ .  \n",
    "  example:\n",
    "         \"kp_123\"\n",
    "\n",
    "variable: It is a named python location to store data in memory.\n",
    "  example:\n",
    "       a=5\n",
    "\"\"\""
   ]
  },
  {
   "cell_type": "markdown",
   "id": "6801804b-bc76-4e39-9244-22d522d89c43",
   "metadata": {},
   "source": [
    "3. Describe three different data types."
   ]
  },
  {
   "cell_type": "code",
   "execution_count": 11,
   "id": "06bdd806-e2cb-4797-8318-36a97368bfe1",
   "metadata": {},
   "outputs": [
    {
     "data": {
      "text/plain": [
       "'\\n1.INTEGER:\\n     It is a data type which contain whole numbers.It can be positive or negative.\\nEXAMPLE:\\n     a = 450\\n2.FLOAT:\\n     It is a data type which contain decimal points.\\nEXAMPLE:\\n     b = 4.50\\n3.STRING:\\n    It is a data type which contains sequence of characters.It is enclosed with single or double quotes.\\nEXAMPLE:\\n   \"priya ganith\"\\n'"
      ]
     },
     "execution_count": 11,
     "metadata": {},
     "output_type": "execute_result"
    }
   ],
   "source": [
    "\"\"\"\n",
    "1.INTEGER:\n",
    "     It is a data type which contain whole numbers.It can be positive or negative.\n",
    "EXAMPLE:\n",
    "     a = 450\n",
    "2.FLOAT:\n",
    "     It is a data type which contain decimal points.\n",
    "EXAMPLE:\n",
    "     b = 4.50\n",
    "3.STRING:\n",
    "    It is a data type which contains sequence of characters.It is enclosed with single or double quotes.\n",
    "EXAMPLE:\n",
    "   \"priya ganith\"\n",
    "\"\"\"\n",
    "    "
   ]
  },
  {
   "cell_type": "markdown",
   "id": "29ff05e7-a645-4c73-bd95-7056d056769b",
   "metadata": {},
   "source": [
    "4. What is an expression made up of? What do all expressions do?"
   ]
  },
  {
   "cell_type": "code",
   "execution_count": 12,
   "id": "1c8f0be4-17a9-42d7-8a02-e4b17aeebc4f",
   "metadata": {},
   "outputs": [
    {
     "data": {
      "text/plain": [
       "'\\nexpression is made up of arithmetical operators.And they do mathematical calculations. \\nFor example: \\n    2*3\\n    2+3\\n'"
      ]
     },
     "execution_count": 12,
     "metadata": {},
     "output_type": "execute_result"
    }
   ],
   "source": [
    "\"\"\"\n",
    "expression is made up of arithmetical operators.And they do mathematical calculations. \n",
    "For example: \n",
    "    2*3\n",
    "    2+3\n",
    "\"\"\""
   ]
  },
  {
   "cell_type": "markdown",
   "id": "8f2ed392-fc7e-47b3-9444-7a885b538b82",
   "metadata": {},
   "source": [
    "5. This assignment statements, like spam = 10. What is the difference between an\n",
    "expression and a statement?"
   ]
  },
  {
   "cell_type": "code",
   "execution_count": 14,
   "id": "76d8f398-f9b3-4afd-9484-2049572305e5",
   "metadata": {},
   "outputs": [
    {
     "data": {
      "text/plain": [
       "'\\nEXPRESSION:\\n    expression is made up of arithmetical operators.And they do mathematical calculations.\\nSTATEMENTS:\\n   A statemnet is a logical instruction that python interpreter can read and execute.In general it performs some action.\\n'"
      ]
     },
     "execution_count": 14,
     "metadata": {},
     "output_type": "execute_result"
    }
   ],
   "source": [
    "\"\"\"\n",
    "EXPRESSION:\n",
    "    expression is made up of arithmetical operators.And they do mathematical calculations.\n",
    "STATEMENTS:\n",
    "   A statemnet is a logical instruction that python interpreter can read and execute.In general it performs some action.\n",
    "\"\"\""
   ]
  },
  {
   "cell_type": "markdown",
   "id": "1be10aee-0abb-494c-bdc9-595f6be8a3da",
   "metadata": {},
   "source": [
    "6. After running the following code, what does the variable bacon contain?\n",
    "bacon = 22\n",
    "bacon + 1"
   ]
  },
  {
   "cell_type": "code",
   "execution_count": 17,
   "id": "7e708f3e-f12f-4922-9f83-f340d1e78510",
   "metadata": {},
   "outputs": [
    {
     "data": {
      "text/plain": [
       "'\\nanswer is 22. Becoz we didnot change the value of bacon\\n'"
      ]
     },
     "execution_count": 17,
     "metadata": {},
     "output_type": "execute_result"
    }
   ],
   "source": [
    "\"\"\"\n",
    "answer is 22. Becoz we didnot change the value of bacon\n",
    "\"\"\""
   ]
  },
  {
   "cell_type": "markdown",
   "id": "83619bb3-1c04-4bfd-b722-f22da5b32555",
   "metadata": {},
   "source": [
    "7. What should the values of the following two terms be?\n",
    "'spam' + 'spamspam'\n",
    "'spam' * 3"
   ]
  },
  {
   "cell_type": "code",
   "execution_count": 38,
   "id": "854a2d64-2514-4d04-bf32-4e7f6edc380a",
   "metadata": {},
   "outputs": [
    {
     "data": {
      "text/plain": [
       "\"\\nboth will give same result that is 'spamspamspam'\\n\""
      ]
     },
     "execution_count": 38,
     "metadata": {},
     "output_type": "execute_result"
    }
   ],
   "source": [
    "\"\"\"\n",
    "both will give same result that is 'spamspamspam'\n",
    "\"\"\""
   ]
  },
  {
   "cell_type": "markdown",
   "id": "f604fcb5-c70d-49d2-b058-a3167c0d5eb6",
   "metadata": {},
   "source": [
    "8. Why is eggs a valid variable name while 100 is invalid?"
   ]
  },
  {
   "cell_type": "code",
   "execution_count": 21,
   "id": "65ff56d8-50c2-4b83-86ee-808cd5956c25",
   "metadata": {},
   "outputs": [
    {
     "data": {
      "text/plain": [
       "'We cannot assign values to digits. Thats the reason 100 is invalid.'"
      ]
     },
     "execution_count": 21,
     "metadata": {},
     "output_type": "execute_result"
    }
   ],
   "source": [
    "\"\"\"We cannot assign values to digits. Thats the reason 100 is invalid.\"\"\""
   ]
  },
  {
   "cell_type": "markdown",
   "id": "2cb9dd03-e728-4088-8973-813a36e2b34f",
   "metadata": {},
   "source": [
    "9. What three functions can be used to get the integer, floating-point number, or string\n",
    "version of a value?"
   ]
  },
  {
   "cell_type": "code",
   "execution_count": 39,
   "id": "cc80878a-bea4-4b77-8135-0167e673b637",
   "metadata": {},
   "outputs": [
    {
     "data": {
      "text/plain": [
       "'\\nint,float,str are the three functions to get the integer, floating-point number, or string version of a value.\\n'"
      ]
     },
     "execution_count": 39,
     "metadata": {},
     "output_type": "execute_result"
    }
   ],
   "source": [
    "\"\"\"\n",
    "int,float,str are the three functions to get the integer, floating-point number, or string version of a value.\n",
    "\"\"\""
   ]
  },
  {
   "cell_type": "markdown",
   "id": "4f7c500a-ae4c-446c-992f-96e106522b43",
   "metadata": {},
   "source": [
    "10. Why does this expression cause an error? How can you fix it?\n",
    "'i have eaten '+ 99 + ' burritos'"
   ]
  },
  {
   "cell_type": "code",
   "execution_count": 31,
   "id": "a3c07db1-036c-4876-994c-30d2390e8232",
   "metadata": {},
   "outputs": [
    {
     "data": {
      "text/plain": [
       "'i have eaten 99 burritos'"
      ]
     },
     "execution_count": 31,
     "metadata": {},
     "output_type": "execute_result"
    }
   ],
   "source": [
    "#'i have eaten'+99+' burritos'\n",
    "# 99 is integer,remaining are string, we cannot concatenate str and int . instead of 99,we can use'99'.\n",
    "'i have eaten ' + '99' +' burritos'"
   ]
  },
  {
   "cell_type": "code",
   "execution_count": null,
   "id": "83d5dc14-2545-4aad-ae3c-0a3fcce93ca3",
   "metadata": {},
   "outputs": [],
   "source": []
  }
 ],
 "metadata": {
  "kernelspec": {
   "display_name": "Python 3 (ipykernel)",
   "language": "python",
   "name": "python3"
  },
  "language_info": {
   "codemirror_mode": {
    "name": "ipython",
    "version": 3
   },
   "file_extension": ".py",
   "mimetype": "text/x-python",
   "name": "python",
   "nbconvert_exporter": "python",
   "pygments_lexer": "ipython3",
   "version": "3.10.6"
  }
 },
 "nbformat": 4,
 "nbformat_minor": 5
}
