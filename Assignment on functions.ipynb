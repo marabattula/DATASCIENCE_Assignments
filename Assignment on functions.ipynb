{
 "cells": [
  {
   "cell_type": "markdown",
   "id": "8114964f",
   "metadata": {},
   "source": [
    "                                   June-11(Functions Assignment-1)"
   ]
  },
  {
   "cell_type": "markdown",
   "id": "1c3364fd",
   "metadata": {},
   "source": [
    "1. What is a lambda function in Python, and how does it differ from a regular function?"
   ]
  },
  {
   "cell_type": "markdown",
   "id": "456b8643",
   "metadata": {},
   "source": [
    "A lambda is also called an anonymous function, because a lambda is a function without a name. To define a lambda in Python, \n",
    "we use the keyword lambda followed by one or more arguments, a colon (:), and a single expression.\n",
    "The difference between lambda and regular function is, in lambda, no need to define function, and we can write the code in \n",
    "same line. But in regular function, have to define function, by using \"def\" keyword.\n",
    "\n",
    "syntax for lambda and regular function:\n",
    "\n",
    "lambda arguments: expression\n",
    "  \n",
    "  AND\n",
    "  \n",
    "def name(arguments):\n",
    "    expression\n",
    "name(real value for arguments)\n",
    "    "
   ]
  },
  {
   "cell_type": "code",
   "execution_count": null,
   "id": "30ab69d3",
   "metadata": {},
   "outputs": [],
   "source": []
  },
  {
   "cell_type": "markdown",
   "id": "10467004",
   "metadata": {},
   "source": [
    "2. Can a lambda function in Python have multiple arguments? If yes, how can you define and use\n",
    "them?"
   ]
  },
  {
   "cell_type": "markdown",
   "id": "68285369",
   "metadata": {},
   "source": [
    "Yes,lambda function in python have multiple arguments.\n",
    "\n",
    "Example: we can define and use like as below."
   ]
  },
  {
   "cell_type": "code",
   "execution_count": 8,
   "id": "10640796",
   "metadata": {},
   "outputs": [
    {
     "name": "stdout",
     "output_type": "stream",
     "text": [
      "9\n"
     ]
    }
   ],
   "source": [
    "add=lambda x,y,z:x+y+z\n",
    "print(add(2,3,4))"
   ]
  },
  {
   "cell_type": "code",
   "execution_count": null,
   "id": "28acd05f",
   "metadata": {},
   "outputs": [],
   "source": []
  },
  {
   "cell_type": "markdown",
   "id": "5a3e0c4e",
   "metadata": {},
   "source": [
    "3. How are lambda functions typically used in Python? Provide an example use case."
   ]
  },
  {
   "cell_type": "markdown",
   "id": "8acdeaf2",
   "metadata": {},
   "source": [
    "we can use lambdas, when the function expression is small to help with readability. It’s a good idea to use lambda \n",
    "functions when it provides the shortest way to write or compute something.\n",
    "\n",
    "Example:"
   ]
  },
  {
   "cell_type": "code",
   "execution_count": 10,
   "id": "8a39465a",
   "metadata": {},
   "outputs": [
    {
     "name": "stdout",
     "output_type": "stream",
     "text": [
      "25\n"
     ]
    }
   ],
   "source": [
    "# A squaring lambda function\n",
    "square = lambda n : n*n\n",
    "num = square(5)\n",
    "print(num)"
   ]
  },
  {
   "cell_type": "code",
   "execution_count": null,
   "id": "48c3bcc2",
   "metadata": {},
   "outputs": [],
   "source": []
  },
  {
   "cell_type": "markdown",
   "id": "a9de36a7",
   "metadata": {},
   "source": [
    "4. What are the advantages and limitations of lambda functions compared to regular functions in\n",
    "Python?"
   ]
  },
  {
   "cell_type": "markdown",
   "id": "9846f381",
   "metadata": {},
   "source": [
    "These re the advntages and limitations of lambda functions compared to regular functions:\n",
    "\n",
    "Lambda Advantages.\n",
    "1.The code is simple and clear.\n",
    "2.No additional variables are added.\n",
    "Limitations:\n",
    "1.Lambda expressions are a strange and unfamiliar syntax to many Python programmers.\n",
    "2.Lambda functions themselves lack names and documentation, meaning that the only way to know what they do is to read the code.\n",
    "3.Lambda expressions can only contain one statement, so some readable language features, such as tuple unpacking, \n",
    "cannot be used with them.\n",
    "4.Lambda functions can often be replaced with existing functions in the standard library or Python built-in functions.\n"
   ]
  },
  {
   "cell_type": "code",
   "execution_count": null,
   "id": "70a230ff",
   "metadata": {},
   "outputs": [],
   "source": []
  },
  {
   "cell_type": "markdown",
   "id": "cde26e72",
   "metadata": {},
   "source": [
    "5. Are lambda functions in Python able to access variables defined outside of their own scope?\n",
    "Explain with an example."
   ]
  },
  {
   "cell_type": "markdown",
   "id": "5d96f877",
   "metadata": {},
   "source": [
    "Lambda functions are able to acess variables ,which we are defining outside of their scope.\n",
    "the original variable seems to be retained.\n"
   ]
  },
  {
   "cell_type": "code",
   "execution_count": 12,
   "id": "be72d847",
   "metadata": {},
   "outputs": [
    {
     "name": "stdout",
     "output_type": "stream",
     "text": [
      "hello 123\n"
     ]
    }
   ],
   "source": [
    "test = 123\n",
    "f = lambda x,test=test: print(x, test)\n",
    "del test\n",
    "f('hello')"
   ]
  },
  {
   "cell_type": "code",
   "execution_count": null,
   "id": "d73f7dd5",
   "metadata": {},
   "outputs": [],
   "source": []
  },
  {
   "cell_type": "markdown",
   "id": "ab101cd8",
   "metadata": {},
   "source": [
    "6. Write a lambda function to calculate the square of a given number."
   ]
  },
  {
   "cell_type": "code",
   "execution_count": 17,
   "id": "456723bd",
   "metadata": {},
   "outputs": [
    {
     "name": "stdout",
     "output_type": "stream",
     "text": [
      "enter number4\n",
      "16\n"
     ]
    }
   ],
   "source": [
    "Square=lambda x: x**2\n",
    "x=int(input(\"enter number\"))\n",
    "print(Square(x))"
   ]
  },
  {
   "cell_type": "code",
   "execution_count": null,
   "id": "6f544871",
   "metadata": {},
   "outputs": [],
   "source": []
  },
  {
   "cell_type": "markdown",
   "id": "dd8e085b",
   "metadata": {},
   "source": [
    "7. Create a lambda function to find the maximum value in a list of integers."
   ]
  },
  {
   "cell_type": "code",
   "execution_count": 18,
   "id": "1f104c32",
   "metadata": {},
   "outputs": [
    {
     "name": "stdout",
     "output_type": "stream",
     "text": [
      "7\n"
     ]
    }
   ],
   "source": [
    "max_num=lambda x,y :x if x>y else y\n",
    "print(max_num(2,7))"
   ]
  },
  {
   "cell_type": "code",
   "execution_count": null,
   "id": "c3341a92",
   "metadata": {},
   "outputs": [],
   "source": []
  },
  {
   "cell_type": "markdown",
   "id": "80d0740e",
   "metadata": {},
   "source": [
    "8. Implement a lambda function to filter out all the even numbers from a list of integers."
   ]
  },
  {
   "cell_type": "code",
   "execution_count": 36,
   "id": "2be8f910",
   "metadata": {},
   "outputs": [
    {
     "name": "stdout",
     "output_type": "stream",
     "text": [
      "even numbers: [2, 4, 6, 8]\n"
     ]
    }
   ],
   "source": [
    "num_list=[ 2, 3, 4, 5, 6,7, 8, 9]\n",
    "even_num= list(filter(lambda x : x % 2 == 0, num_list))\n",
    "print(\"even numbers:\", even_num)"
   ]
  },
  {
   "cell_type": "code",
   "execution_count": null,
   "id": "dd2b5de8",
   "metadata": {},
   "outputs": [],
   "source": []
  },
  {
   "cell_type": "markdown",
   "id": "342fb702",
   "metadata": {},
   "source": [
    "9. Write a lambda function to sort a list of strings in ascending order based on the length of each\n",
    "string."
   ]
  },
  {
   "cell_type": "code",
   "execution_count": 55,
   "id": "99a31670",
   "metadata": {},
   "outputs": [
    {
     "name": "stdout",
     "output_type": "stream",
     "text": [
      "['id01', 'id02', 'id03', 'id10', 'id12', 'id13']\n"
     ]
    }
   ],
   "source": [
    "lst = ['id01', 'id10', 'id02', 'id12', 'id03', 'id13']\n",
    "lst_sorted = sorted(lst, key=lambda x: int(x[2:]))\n",
    "print(lst_sorted)"
   ]
  },
  {
   "cell_type": "code",
   "execution_count": null,
   "id": "3cb71954",
   "metadata": {},
   "outputs": [],
   "source": []
  },
  {
   "cell_type": "markdown",
   "id": "247cce31",
   "metadata": {},
   "source": [
    "10. Create a lambda function that takes two lists as input and returns a new list containing the\n",
    "common elements between the two lists."
   ]
  },
  {
   "cell_type": "code",
   "execution_count": 3,
   "id": "1624cdd0",
   "metadata": {},
   "outputs": [
    {
     "name": "stdout",
     "output_type": "stream",
     "text": [
      "[4, 5]\n"
     ]
    }
   ],
   "source": [
    "find_common_elements = lambda list1, list2: list(filter(lambda x: x in list2, list1))\n",
    "list1 = [1, 2, 3, 4, 5]\n",
    "list2 = [4, 5, 6, 7, 8]\n",
    "common_elements = find_common_elements(list1, list2)\n",
    "print(common_elements)"
   ]
  },
  {
   "cell_type": "code",
   "execution_count": null,
   "id": "486b9695",
   "metadata": {},
   "outputs": [],
   "source": []
  },
  {
   "cell_type": "markdown",
   "id": "e0100417",
   "metadata": {},
   "source": [
    "11. Write a recursive function to calculate the factorial of a given positive integer."
   ]
  },
  {
   "cell_type": "code",
   "execution_count": 71,
   "id": "6fc6489a",
   "metadata": {},
   "outputs": [
    {
     "name": "stdout",
     "output_type": "stream",
     "text": [
      "number :  5\n",
      "Factorial :  120\n"
     ]
    }
   ],
   "source": [
    "def factorial(n):\n",
    "     \n",
    "    # Checking the number\n",
    "    # is 1 or 0 then\n",
    "    # return 1\n",
    "    # other wise return\n",
    "    # factorial\n",
    "    if (n==1 or n==0):\n",
    "         \n",
    "        return 1\n",
    "     \n",
    "    else:\n",
    "         \n",
    "        return (n * factorial(n - 1))\n",
    " \n",
    "num = 5;\n",
    "print(\"number : \",num)\n",
    "print(\"Factorial : \",factorial(num))"
   ]
  },
  {
   "cell_type": "code",
   "execution_count": null,
   "id": "203c61de",
   "metadata": {},
   "outputs": [],
   "source": []
  },
  {
   "cell_type": "markdown",
   "id": "a538e91a",
   "metadata": {},
   "source": [
    "12. Implement a recursive function to compute the nth Fibonacci number."
   ]
  },
  {
   "cell_type": "code",
   "execution_count": 44,
   "id": "cc72dd37",
   "metadata": {},
   "outputs": [
    {
     "name": "stdout",
     "output_type": "stream",
     "text": [
      "8\n"
     ]
    }
   ],
   "source": [
    "def febonacci(n):\n",
    "    if n<=1:\n",
    "        return n\n",
    "    else:\n",
    "        return febonacci (n-1)+febonacci (n-2)\n",
    "print(febonacci(6))"
   ]
  },
  {
   "cell_type": "code",
   "execution_count": null,
   "id": "80e6c32c",
   "metadata": {},
   "outputs": [],
   "source": []
  },
  {
   "cell_type": "markdown",
   "id": "f237c6c6",
   "metadata": {},
   "source": [
    "13. Create a recursive function to find the sum of all the elements in a given list."
   ]
  },
  {
   "cell_type": "code",
   "execution_count": 41,
   "id": "92e6f1fd",
   "metadata": {},
   "outputs": [
    {
     "name": "stdout",
     "output_type": "stream",
     "text": [
      "15\n"
     ]
    }
   ],
   "source": [
    "def rec_sum(n):\n",
    "    if n==1:\n",
    "        return 1 \n",
    "    else:\n",
    "        return n+rec_sum(n-1)\n",
    "print(rec_sum(5))"
   ]
  },
  {
   "cell_type": "code",
   "execution_count": null,
   "id": "2970e0c8",
   "metadata": {},
   "outputs": [],
   "source": []
  },
  {
   "cell_type": "markdown",
   "id": "584800fc",
   "metadata": {},
   "source": [
    "14. Write a recursive function to determine whether a given string is a palindrome."
   ]
  },
  {
   "cell_type": "code",
   "execution_count": 70,
   "id": "c536d6d9",
   "metadata": {},
   "outputs": [
    {
     "name": "stdout",
     "output_type": "stream",
     "text": [
      "Yes\n"
     ]
    }
   ],
   "source": [
    "def isPalindrome(s):\n",
    " \n",
    "    # to change it the string is similar case\n",
    "    s = s.lower()\n",
    "    # length of s\n",
    "    l = len(s)\n",
    " \n",
    "    # if length is less than 2\n",
    "    if l < 2:\n",
    "        return True\n",
    " \n",
    "    # If s[0] and s[l-1] are equal\n",
    "    elif s[0] == s[l - 1]:\n",
    " \n",
    "        # Call is palindrome form substring(1,l-1)\n",
    "        return isPalindrome(s[1: l - 1])\n",
    " \n",
    "    else:\n",
    "        return False\n",
    " \n",
    "\n",
    "s = \"MalaYaLam\"\n",
    "ans = isPalindrome(s)\n",
    " \n",
    "if ans:\n",
    "    print(\"Yes\")\n",
    " \n",
    "else:\n",
    "    print(\"No\")"
   ]
  },
  {
   "cell_type": "code",
   "execution_count": null,
   "id": "fd5048a1",
   "metadata": {},
   "outputs": [],
   "source": []
  },
  {
   "cell_type": "markdown",
   "id": "85908999",
   "metadata": {},
   "source": [
    "15. Implement a recursive function to find the greatest common divisor (GCD) of two positive integers."
   ]
  },
  {
   "cell_type": "code",
   "execution_count": 69,
   "id": "aec04079",
   "metadata": {},
   "outputs": [
    {
     "name": "stdout",
     "output_type": "stream",
     "text": [
      " Please Enter the First Value  : 34\n",
      " Please Enter the Second Value : 45\n",
      "\n",
      " The Result of 34.0 and 45.0 = 1.0\n"
     ]
    }
   ],
   "source": [
    "def find_GCD(a,b):\n",
    "    if(b == 0):\n",
    "        return a;\n",
    "    else:\n",
    "        return findGreatestCD(b, a % b)\n",
    "    \n",
    "num1 = float(input(\" Please Enter the First Value  : \"))\n",
    "num2 = float(input(\" Please Enter the Second Value : \"))\n",
    "\n",
    "Val = findGreatestCD(num1, num2)\n",
    "print(\"\\n The Result of {0} and {1} = {2}\".format(num1, num2, Val))"
   ]
  }
 ],
 "metadata": {
  "kernelspec": {
   "display_name": "Python 3 (ipykernel)",
   "language": "python",
   "name": "python3"
  },
  "language_info": {
   "codemirror_mode": {
    "name": "ipython",
    "version": 3
   },
   "file_extension": ".py",
   "mimetype": "text/x-python",
   "name": "python",
   "nbconvert_exporter": "python",
   "pygments_lexer": "ipython3",
   "version": "3.9.12"
  }
 },
 "nbformat": 4,
 "nbformat_minor": 5
}
