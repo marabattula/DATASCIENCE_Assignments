{
 "cells": [
  {
   "cell_type": "markdown",
   "id": "35a76f83",
   "metadata": {},
   "source": [
    "                                      Python Basic - 2"
   ]
  },
  {
   "cell_type": "markdown",
   "id": "a13539a9",
   "metadata": {},
   "source": [
    "Q.1. Create two int type variables, apply addition, subtraction, division and multiplications\n",
    "and store the results in variables. Then print the data in the following format by calling the\n",
    "variables:\n",
    "\n",
    "First variable is __ & second variable is __.\n",
    "Addition: __ + __ = __\n",
    "Subtraction: __ - __ = __\n",
    "Multiplication: __ * __ = __\n",
    "Division: __ / __ = __"
   ]
  },
  {
   "cell_type": "code",
   "execution_count": 3,
   "id": "87ebd6ab",
   "metadata": {},
   "outputs": [
    {
     "name": "stdout",
     "output_type": "stream",
     "text": [
      "enter first number: 4\n",
      "enter second number: 2\n",
      "First variable is 4 & second variable is 2\n",
      "Addition: 4 + 2 = 6\n",
      "subtraction: 4 - 2 = 2\n",
      "division: 4 / 2 = 2.0\n",
      "Multiplication: 4 * 2 = 8\n"
     ]
    }
   ],
   "source": [
    "num1=int(input(\"enter first number: \"))\n",
    "num2=int(input(\"enter second number: \"))\n",
    "print(\"First variable is\",num1,\"&\",\"second variable is\",num2)\n",
    "#addition:\n",
    "add=num1+num2\n",
    "print(\"Addition:\" ,num1,\"+\",num2,\"=\",add)\n",
    "#subtraction:\n",
    "sub=num1-num2\n",
    "print(\"subtraction:\" ,num1,\"-\",num2,\"=\",sub)\n",
    "#division:\n",
    "div=num1/num2\n",
    "print(\"division:\" ,num1,\"/\",num2,\"=\",div)\n",
    "#Multiplication:\n",
    "mul=num1*num2\n",
    "print(\"Multiplication:\" ,num1,\"*\",num2,\"=\",mul)"
   ]
  },
  {
   "cell_type": "markdown",
   "id": "d295abfd",
   "metadata": {},
   "source": [
    "Q.2. What is the difference between the following operators:\n",
    "(i) ‘/’ & ‘//’\n",
    "(ii) ‘**’ & ‘^’"
   ]
  },
  {
   "cell_type": "markdown",
   "id": "d64e9ee0",
   "metadata": {},
   "source": [
    "(i) '/' : It is the type of arithmetic operator.It is the division(float) symbol,divides the first operand by the second.And it gives the result with decimal points.\n",
    "\n",
    "Example: x/y\n",
    "\n",
    "   '//': It is the type of arithmetic operator.It is called as floor division, divides the first operand by the second,which gives result without the decimal points.\n",
    "    \n",
    "Example: x//y\n",
    "\n",
    "(ii) '**' : It is the type of arithmetic operator.It is called as exponential or powe symbol , \n",
    "    Returns first raised to power second.\n",
    "\n",
    "Example: x**y\n",
    "\n",
    "    '^': it is the type of Bitwise operators.Called as Bitwise XOR.\n",
    "    \n",
    "Example: x^y\n"
   ]
  },
  {
   "cell_type": "code",
   "execution_count": 7,
   "id": "293faef9",
   "metadata": {},
   "outputs": [
    {
     "name": "stdout",
     "output_type": "stream",
     "text": [
      "2.0\n",
      "2\n",
      "16\n",
      "6\n"
     ]
    }
   ],
   "source": [
    "a=4\n",
    "b=2\n",
    "print(a/b)\n",
    "print(a//b)\n",
    "print(a**b)\n",
    "print(a^b)"
   ]
  },
  {
   "cell_type": "code",
   "execution_count": null,
   "id": "01b87a43",
   "metadata": {},
   "outputs": [],
   "source": []
  },
  {
   "cell_type": "markdown",
   "id": "e4fb0cc8",
   "metadata": {},
   "source": [
    "Q.3. List the logical operators."
   ]
  },
  {
   "cell_type": "markdown",
   "id": "115b9f9c",
   "metadata": {},
   "source": [
    "Python Logical operators perform Logical AND, Logical OR, and Logical NOT operations. \n",
    "It is used to combine conditional statements.\n",
    "\n",
    "The precedence of Logical Operators in python is as follows:\n",
    "Logical not\n",
    "logical and\n",
    "logical or\n",
    "Logical AND: True if both the operands are true\n",
    "    x and y\n",
    "Logical OR: True if either of the operands is true \n",
    "    x or y\n",
    "Logical NOT: True if the operand is false \n",
    "    not x\n"
   ]
  },
  {
   "cell_type": "code",
   "execution_count": null,
   "id": "54a67d01",
   "metadata": {},
   "outputs": [],
   "source": []
  },
  {
   "cell_type": "markdown",
   "id": "e1ca94ad",
   "metadata": {},
   "source": [
    "Q.4. Explain right shift operator and left shift operator with examples."
   ]
  },
  {
   "cell_type": "markdown",
   "id": "b84aa468",
   "metadata": {},
   "source": [
    "'<<' : Python bitwise left shift operator shifts the left operand bits towards the left side for the given \n",
    "    number of times in the right operand. In simple terms, the binary number is appended with 0s at the end.\n",
    "    \n",
    "'>>' :Python right shift operator is exactly the opposite of the left shift operator. Then left side operand bits are moved      towards the right side for the given number of times. In simple terms, the right side bits are removed.\n",
    "\n",
    "Example:"
   ]
  },
  {
   "cell_type": "code",
   "execution_count": 9,
   "id": "b8f925ab",
   "metadata": {},
   "outputs": [
    {
     "name": "stdout",
     "output_type": "stream",
     "text": [
      "0\n",
      "128\n"
     ]
    }
   ],
   "source": [
    "a=10\n",
    "b=5\n",
    "print(a>>b)\n",
    "c=8\n",
    "d=4\n",
    "print(c<<d)"
   ]
  },
  {
   "cell_type": "code",
   "execution_count": null,
   "id": "a61e6d47",
   "metadata": {},
   "outputs": [],
   "source": []
  },
  {
   "cell_type": "markdown",
   "id": "57a0837f",
   "metadata": {},
   "source": [
    "Q.5. Create a list containing int type data of length 15. Then write a code to check if 10 is\n",
    "present in the list or not."
   ]
  },
  {
   "cell_type": "code",
   "execution_count": 11,
   "id": "b022e4be",
   "metadata": {},
   "outputs": [
    {
     "name": "stdout",
     "output_type": "stream",
     "text": [
      "True\n"
     ]
    }
   ],
   "source": [
    "Numbers=[1,2,3,4,5,6,7,8,9,10,11,12,13,14,15]\n",
    "if 10 in Numbers:\n",
    "    print(\"True\")\n",
    "else:\n",
    "    print(\"False\")"
   ]
  }
 ],
 "metadata": {
  "kernelspec": {
   "display_name": "Python 3 (ipykernel)",
   "language": "python",
   "name": "python3"
  },
  "language_info": {
   "codemirror_mode": {
    "name": "ipython",
    "version": 3
   },
   "file_extension": ".py",
   "mimetype": "text/x-python",
   "name": "python",
   "nbconvert_exporter": "python",
   "pygments_lexer": "ipython3",
   "version": "3.9.12"
  }
 },
 "nbformat": 4,
 "nbformat_minor": 5
}
