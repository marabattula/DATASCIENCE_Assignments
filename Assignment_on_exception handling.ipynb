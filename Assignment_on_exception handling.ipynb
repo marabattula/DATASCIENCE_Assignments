{
 "cells": [
  {
   "cell_type": "markdown",
   "id": "0156a9d4",
   "metadata": {},
   "source": [
    "                                  Assignment on exception handling"
   ]
  },
  {
   "cell_type": "markdown",
   "id": "61116e8d",
   "metadata": {},
   "source": [
    "1. What is the role of try and exception block?"
   ]
  },
  {
   "cell_type": "markdown",
   "id": "27eb716d",
   "metadata": {},
   "source": [
    "try: the code with the exceptions to catch. If an exception is raised, it jumps straight into the except block.\n",
    "\n",
    "except: this code is only executed if an exception occured in the try block. The except block is required with a try block,\n",
    "      even if it contains only the pass statement."
   ]
  },
  {
   "cell_type": "code",
   "execution_count": null,
   "id": "e7ede7d5",
   "metadata": {},
   "outputs": [],
   "source": []
  },
  {
   "cell_type": "markdown",
   "id": "cac83d95",
   "metadata": {},
   "source": [
    "2. What is the syntax for a basic try-except block?"
   ]
  },
  {
   "cell_type": "code",
   "execution_count": null,
   "id": "83bc8a7e",
   "metadata": {},
   "outputs": [],
   "source": [
    "#the syntax of try-except block is\n",
    "try :\n",
    "    #statements in try block\n",
    "except :\n",
    "    #executed when error in try block"
   ]
  },
  {
   "cell_type": "code",
   "execution_count": null,
   "id": "6fc212de",
   "metadata": {},
   "outputs": [],
   "source": []
  },
  {
   "cell_type": "markdown",
   "id": "6a9cb473",
   "metadata": {},
   "source": [
    "3. What happens if an exception occurs inside a try block and there is no matching\n",
    "except block?"
   ]
  },
  {
   "cell_type": "markdown",
   "id": "d00b0b13",
   "metadata": {},
   "source": [
    "If we give finally block or else block, it will go there and it executes it. or it will execute and print exception."
   ]
  },
  {
   "cell_type": "code",
   "execution_count": null,
   "id": "9b1faa6d",
   "metadata": {},
   "outputs": [],
   "source": []
  },
  {
   "cell_type": "markdown",
   "id": "da9c1076",
   "metadata": {},
   "source": [
    "4. What is the difference between using a bare except block and specifying a specific\n",
    "exception type?"
   ]
  },
  {
   "cell_type": "markdown",
   "id": "fb526eb2",
   "metadata": {},
   "source": [
    "The difference is that a bare except can catch any and all kind of exception, that in python is anything that is or \n",
    "inherit from BaseException that sit at the top of the exception hierarchy, while except Exception will catch only Exception\n",
    "itself or anything that inherit from it."
   ]
  },
  {
   "cell_type": "code",
   "execution_count": null,
   "id": "5040c5ac",
   "metadata": {},
   "outputs": [],
   "source": []
  },
  {
   "cell_type": "markdown",
   "id": "72e9cf5e",
   "metadata": {},
   "source": [
    "5. Can you have nested try-except blocks in Python? If yes, then give an example."
   ]
  },
  {
   "cell_type": "markdown",
   "id": "ad426e20",
   "metadata": {},
   "source": [
    "yes, we have nested try-except blocks in python."
   ]
  },
  {
   "cell_type": "code",
   "execution_count": 14,
   "id": "f18cad4d",
   "metadata": {},
   "outputs": [
    {
     "name": "stdout",
     "output_type": "stream",
     "text": [
      "Something went wrong when opening the file\n"
     ]
    }
   ],
   "source": [
    "try:\n",
    "  f = open(\"demofile.txt\")\n",
    "  try:\n",
    "    f.write(\"Lorum Ipsum\")\n",
    "  except:\n",
    "    print(\"Something went wrong when writing to the file\")\n",
    "  finally:\n",
    "    f.close()\n",
    "except:\n",
    "  print(\"Something went wrong when opening the file\")"
   ]
  },
  {
   "cell_type": "code",
   "execution_count": null,
   "id": "f9331603",
   "metadata": {},
   "outputs": [],
   "source": []
  },
  {
   "cell_type": "markdown",
   "id": "7729998a",
   "metadata": {},
   "source": [
    "6. Can we use multiple exception blocks, if yes then give an example."
   ]
  },
  {
   "cell_type": "markdown",
   "id": "ee8107ad",
   "metadata": {},
   "source": [
    "Yes, we can use multiple exception blocks."
   ]
  },
  {
   "cell_type": "code",
   "execution_count": 4,
   "id": "f478b1bf",
   "metadata": {},
   "outputs": [
    {
     "name": "stdout",
     "output_type": "stream",
     "text": [
      "It failed\n"
     ]
    }
   ],
   "source": [
    "try:\n",
    "    f = open('missing')\n",
    "except OSError:\n",
    "    print('It failed')\n",
    "except FileNotFoundError:\n",
    "    print('File not found')"
   ]
  },
  {
   "cell_type": "code",
   "execution_count": null,
   "id": "52155d1d",
   "metadata": {},
   "outputs": [],
   "source": []
  },
  {
   "cell_type": "markdown",
   "id": "4a410e94",
   "metadata": {},
   "source": [
    "7. Write the reason due to which following errors are raised:\n",
    "a. EOFError\n",
    "b. FloatingPointError\n",
    "c. IndexError\n",
    "d. MemoryError\n",
    "e. OverflowError\n",
    "f. TabError\n",
    "g. ValueError"
   ]
  },
  {
   "cell_type": "code",
   "execution_count": null,
   "id": "8bcfaad0",
   "metadata": {},
   "outputs": [],
   "source": [
    "a.EOFError:\n",
    "    EOFError is raised when one of the built-in functions input() or raw_input() hits an end-of-file condition (EOF)\n",
    "    without reading any data. This error is sometimes experienced while using online IDEs. This occurs when we have asked\n",
    "    the user for input but have not provided any input in the input box\n",
    "\n",
    "b.FloatingPointError:\n",
    "    FloatingPointError in Python indicates that something has gone wrong with a floating point calculation.\n",
    "    However, unlike most other languages, Python will not raise a FloatingPointError by default.\n",
    "\n",
    "c.IndexError:\n",
    "    IndexError is that,when we give the index number out of the range,then we will get index error.\n",
    "    \n",
    "d.MemoryError:\n",
    "    This error usually occurs when a program attempts to generate a massive data structure, such as a list or dictionary, \n",
    "    or when it creates little objects continuously until the available memory is consumed.\n",
    "    \n",
    "e.OverflowError:\n",
    "     If we give one calculation, if there is no sufficient memory for the result to store,then we will get overflowerror.\n",
    "    \n",
    "f.TabError:\n",
    "    A TabError in Python is a type of syntax error that is thrown when there is an inconsistent use of tabs and spaces in \n",
    "    the indentation of code.In Python, code indentation is used to indicate the start and end of a code block. \n",
    "    However, if the indentation is not consistent, it can cause a TabError.\n",
    "    \n",
    "g.ValueError:\n",
    "    when an object is given the incorrect value, the Python ValueError is raised. This may occur if the value is\n",
    "    incorrect for the intended operation or if the value is missing altogether. A ValueError is raised, for instance,\n",
    "    if a negative integer is supplied to a square root operation.\n"
   ]
  },
  {
   "cell_type": "code",
   "execution_count": null,
   "id": "85e37841",
   "metadata": {},
   "outputs": [],
   "source": []
  },
  {
   "cell_type": "markdown",
   "id": "46e4ea0a",
   "metadata": {},
   "source": [
    "8. Write code for the following given scenario and add try-exception block to it.\n",
    "a. Program to divide two numbers\n",
    "b. Program to convert a string to an integer\n",
    "c. Program to access an element in a list\n",
    "d. Program to handle a specific exception\n",
    "e. Program to handle any exception"
   ]
  },
  {
   "cell_type": "code",
   "execution_count": 18,
   "id": "c6daad9d",
   "metadata": {},
   "outputs": [
    {
     "name": "stdout",
     "output_type": "stream",
     "text": [
      "2.0\n"
     ]
    }
   ],
   "source": [
    "#a.Program to divide two numbers:\n",
    "try:\n",
    "    a=10\n",
    "    b=5\n",
    "    print(a/b)\n",
    "except:\n",
    "    print('Some error occurred.')"
   ]
  },
  {
   "cell_type": "code",
   "execution_count": 19,
   "id": "a2ed6afa",
   "metadata": {},
   "outputs": [
    {
     "name": "stdout",
     "output_type": "stream",
     "text": [
      "42\n"
     ]
    }
   ],
   "source": [
    "#b.program to convert a string to an integer:\n",
    "try:\n",
    "    string = \"42\"\n",
    "    integer = int(string)\n",
    "    print(integer) # Output: 42\n",
    "except:\n",
    "    print(f\"{string} is not a valid integer.\")"
   ]
  },
  {
   "cell_type": "code",
   "execution_count": 21,
   "id": "b4fa2a28",
   "metadata": {},
   "outputs": [
    {
     "name": "stdout",
     "output_type": "stream",
     "text": [
      "banana\n"
     ]
    }
   ],
   "source": [
    "#c.program to access an element in a list:\n",
    "thislist = [\"apple\", \"banana\", \"cherry\"]\n",
    "try:\n",
    "    print(thislist[1])\n",
    "except:\n",
    "    print(\"error\")\n",
    "    "
   ]
  },
  {
   "cell_type": "code",
   "execution_count": 22,
   "id": "bf77ac35",
   "metadata": {},
   "outputs": [
    {
     "name": "stdout",
     "output_type": "stream",
     "text": [
      "Error: Denominator cannot be 0.\n"
     ]
    }
   ],
   "source": [
    "#d.program to handle a specific exception:\n",
    "try:\n",
    "    numerator = 10\n",
    "    denominator = 0\n",
    "\n",
    "    result = numerator/denominator\n",
    "\n",
    "    print(result)\n",
    "except:\n",
    "    print(\"Error: Denominator cannot be 0.\")\n"
   ]
  },
  {
   "cell_type": "code",
   "execution_count": 24,
   "id": "bea9c2cf",
   "metadata": {},
   "outputs": [
    {
     "name": "stdout",
     "output_type": "stream",
     "text": [
      "Error:cannot calculate .\n"
     ]
    }
   ],
   "source": [
    "#e.program to handle any exception:\n",
    "try:\n",
    "    numerator = 10\n",
    "    denominator = \"10\"\n",
    "\n",
    "    result = numerator/denominator\n",
    "\n",
    "    print(result)\n",
    "except:\n",
    "    print(\"Error:cannot calculate.\")"
   ]
  },
  {
   "cell_type": "code",
   "execution_count": null,
   "id": "f59d8ecf",
   "metadata": {},
   "outputs": [],
   "source": []
  }
 ],
 "metadata": {
  "kernelspec": {
   "display_name": "Python 3 (ipykernel)",
   "language": "python",
   "name": "python3"
  },
  "language_info": {
   "codemirror_mode": {
    "name": "ipython",
    "version": 3
   },
   "file_extension": ".py",
   "mimetype": "text/x-python",
   "name": "python",
   "nbconvert_exporter": "python",
   "pygments_lexer": "ipython3",
   "version": "3.9.12"
  }
 },
 "nbformat": 4,
 "nbformat_minor": 5
}
