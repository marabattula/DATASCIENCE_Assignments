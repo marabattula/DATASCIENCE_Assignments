{
 "cells": [
  {
   "cell_type": "markdown",
   "id": "6136533b-0436-4e83-a9f1-f03dda5c3191",
   "metadata": {},
   "source": [
    "1.What are the two values of the Boolean data type? How do you write that?"
   ]
  },
  {
   "cell_type": "code",
   "execution_count": 1,
   "id": "912d1ca0-5e87-4f63-93f9-bd883964f904",
   "metadata": {},
   "outputs": [
    {
     "name": "stdout",
     "output_type": "stream",
     "text": [
      "True\n",
      "False\n"
     ]
    },
    {
     "data": {
      "text/plain": [
       "False"
      ]
     },
     "execution_count": 1,
     "metadata": {},
     "output_type": "execute_result"
    }
   ],
   "source": [
    "#There are two values in Boolean data type. They are True and False. \n",
    "#For example 2>1 is true, 2<1 is false\n",
    "x=5\n",
    "y=10\n",
    "print(bool(x<y))\n",
    "print(bool(x>y))\n",
    "True\n",
    "False"
   ]
  },
  {
   "cell_type": "markdown",
   "id": "ff728aa9-f197-4573-8e79-158e37d77eca",
   "metadata": {},
   "source": [
    "2.what are the three different types of Boolean operators?"
   ]
  },
  {
   "cell_type": "code",
   "execution_count": 13,
   "id": "60208f19-010b-402a-ad49-81068dd11f72",
   "metadata": {},
   "outputs": [],
   "source": [
    "The three different Boolean operators are \"OR\", \"AND\", \"NOT\" "
   ]
  },
  {
   "cell_type": "markdown",
   "id": "6360d47e-7032-470c-9e6b-5ed8440fe39b",
   "metadata": {},
   "source": [
    "3.Make a list of each Boolean operators truth tables (i.e. every possible combination of Boolean values for the operator and what it evaluate )."
   ]
  },
  {
   "cell_type": "code",
   "execution_count": null,
   "id": "2b75c4be-d49f-440e-ace8-7572d910a652",
   "metadata": {},
   "outputs": [],
   "source": [
    "True and True is True.\n",
    "\n",
    "True and False is False.\n",
    "\n",
    "False and True is False.\n",
    "\n",
    "False and False is False.\n",
    "\n",
    "True or True is True.\n",
    "\n",
    "True or False is True.\n",
    "\n",
    "False or True is True.\n",
    "\n",
    "False or False is False.\n",
    "\n",
    "not True is False.\n",
    "\n",
    "not False is True."
   ]
  },
  {
   "cell_type": "markdown",
   "id": "8b1145bc-7791-4886-9110-6874cb4bc96b",
   "metadata": {},
   "source": [
    "4.What are the values of the following expressions? \n",
    "(5>4) and (3==5) not (5>4) ((5>4) or (3==5)) not ((5>4) or (3==5)) (True and True) and (True == False) (not False) or (not True)"
   ]
  },
  {
   "cell_type": "code",
   "execution_count": 14,
   "id": "1ce2bb7a-ae5c-4c8a-aa88-87998a4bf0b3",
   "metadata": {},
   "outputs": [],
   "source": [
    "True"
   ]
  },
  {
   "cell_type": "markdown",
   "id": "9f5ae701-88f7-4711-9319-8c4dacc31094",
   "metadata": {},
   "source": [
    "5.What are the six comparison operators?"
   ]
  },
  {
   "cell_type": "code",
   "execution_count": 16,
   "id": "f136c086-262f-4f63-8d80-027ec0bb8310",
   "metadata": {},
   "outputs": [],
   "source": [
    "we have 6 comparision operators\n",
    "they are \">\", \"<\", \"=\", \"<=\", \">=\", \"==\""
   ]
  },
  {
   "cell_type": "markdown",
   "id": "918296d4-ceb6-430a-98e6-916cdcc08baf",
   "metadata": {},
   "source": [
    "6.How do you tell the difference between the equal to and assignment operators?Describe a condition and when you would use one."
   ]
  },
  {
   "cell_type": "code",
   "execution_count": 17,
   "id": "3ef98bf0-6656-4bd9-bc8a-29829962f699",
   "metadata": {},
   "outputs": [],
   "source": [
    "In python the equal to sign is \" = \"  and assignment operator sign is \" == \" (with two equlas sign)\n",
    "ESo, we use first one (=) assigns the value on the right-hand to the variable on its left.\n",
    "EXAMPLE:\n",
    "   a = 5\n",
    "while the other (==) compares whether the values on both sides of the operator are equal.\n",
    "EXAMPLE:\n",
    "   a==5"
   ]
  },
  {
   "cell_type": "markdown",
   "id": "93aa5bcf-a390-42b4-8c8e-b7a1159eb50c",
   "metadata": {},
   "source": [
    "7. Identify the three blocks in this code:\n",
    "spam = 0\n",
    "if spam == 10:\n",
    "print('eggs')\n",
    "if spam>5:\n",
    "print(bacon)\n",
    "else:\n",
    "print('ham')\n",
    "print('spam')\n",
    "print('spam')\n",
    "\"\"\"\n"
   ]
  },
  {
   "cell_type": "code",
   "execution_count": 18,
   "id": "8389402b-2dc5-4480-87e1-4e76e1999531",
   "metadata": {},
   "outputs": [],
   "source": [
    "There are if,if,else blocks in above code."
   ]
  },
  {
   "cell_type": "markdown",
   "id": "48ecdb8d-ccab-45c1-8b60-f47a1d85516a",
   "metadata": {},
   "source": [
    "8.write code that prints Hello if 1 is stored in spam, prints Howdy if 2 is stored in spam, and prints Greetings! if anything else is stored in spam.\n"
   ]
  },
  {
   "cell_type": "code",
   "execution_count": 8,
   "id": "1e6a3f8e-ea6c-4f12-a3a9-f8a644d616e3",
   "metadata": {},
   "outputs": [
    {
     "name": "stdin",
     "output_type": "stream",
     "text": [
      "Enter number 1\n"
     ]
    },
    {
     "name": "stdout",
     "output_type": "stream",
     "text": [
      "Hello\n"
     ]
    }
   ],
   "source": [
    "spam=int(input(\"Enter number\"))\n",
    "if spam == 1:\n",
    "    print(\"Hello\")\n",
    "elif spam==2:\n",
    "    print(\"Howdy\")\n",
    "else:\n",
    "    print(\"Greetings!\")"
   ]
  },
  {
   "cell_type": "markdown",
   "id": "14e3b80b-6025-46ce-b53f-ae55aa1ded80",
   "metadata": {},
   "source": [
    "9.If your programme is stuck in an endless loop, what keys you’ll press?"
   ]
  },
  {
   "cell_type": "code",
   "execution_count": null,
   "id": "0a40d211-a7d2-47bf-8695-7720d76d3a44",
   "metadata": {},
   "outputs": [],
   "source": [
    "Press CTRL+C to stop a program stuck in an infinite loop."
   ]
  },
  {
   "cell_type": "markdown",
   "id": "dc061ccf-f916-44b0-988a-0d9f93e0505c",
   "metadata": {},
   "source": [
    "10.How can you tell the difference between break and continue?"
   ]
  },
  {
   "cell_type": "code",
   "execution_count": null,
   "id": "a2827776-2c58-4672-bb18-ff2bfcef9c3b",
   "metadata": {},
   "outputs": [],
   "source": [
    "The main Difference between break and continue in python is loop terminate.\n",
    "The break statement will exist in python to get exit or break for and while conditional loop.\n",
    "The continue statement let the control to the next iteration of that loop."
   ]
  },
  {
   "cell_type": "markdown",
   "id": "efbdea41-a5da-4051-aa3d-16880b656549",
   "metadata": {},
   "source": [
    "11. In a for loop, what is the difference between range(10), range(0, 10), and range(0, 10, 1)?"
   ]
  },
  {
   "cell_type": "code",
   "execution_count": 19,
   "id": "6f5ee1b5-d1c2-4dbb-b261-47ac9869da4d",
   "metadata": {},
   "outputs": [],
   "source": [
    "There is no difference between range(10), range(0,10) and range(0,10,1). range function \n",
    "in Python takes 3 arguments and they are initial value, final value and increment value."
   ]
  },
  {
   "cell_type": "markdown",
   "id": "0f91aac1-c96e-4c07-8ff8-af9d2eb38fb4",
   "metadata": {},
   "source": [
    "12. Write a short program that prints the numbers 1 to 10 using a for loop. Then write an equivalent\n",
    "program that prints the numbers 1 to 10 using a while loop."
   ]
  },
  {
   "cell_type": "code",
   "execution_count": 12,
   "id": "0f964beb-f791-4422-9800-b0f39f5872d2",
   "metadata": {},
   "outputs": [
    {
     "name": "stdout",
     "output_type": "stream",
     "text": [
      "1\n",
      "2\n",
      "3\n",
      "4\n",
      "5\n",
      "6\n",
      "7\n",
      "8\n",
      "9\n",
      "10\n",
      "1\n",
      "2\n",
      "3\n",
      "4\n",
      "5\n",
      "6\n",
      "7\n",
      "8\n",
      "9\n",
      "10\n"
     ]
    }
   ],
   "source": [
    "# USING FOR LOOP \n",
    "for num in range(1, 11):\n",
    "    print(num)\n",
    "#USING WHILE LOOP\n",
    "number = 1\n",
    "while number <= 10:\n",
    "    print(number)\n",
    "    number += 1\n",
    "\n"
   ]
  },
  {
   "cell_type": "markdown",
   "id": "c18cbe7d-bd26-4b5f-a38c-9b2aab45ff6a",
   "metadata": {},
   "source": [
    "13. If you had a function named bacon() inside a module named spam, how would you call it after\n",
    "importing spam?"
   ]
  },
  {
   "cell_type": "code",
   "execution_count": null,
   "id": "3236ae79-838f-4e7c-ad32-1cfcf3022725",
   "metadata": {},
   "outputs": [],
   "source": [
    "This function can be called with spam.bacon()."
   ]
  }
 ],
 "metadata": {
  "kernelspec": {
   "display_name": "Python 3 (ipykernel)",
   "language": "python",
   "name": "python3"
  },
  "language_info": {
   "codemirror_mode": {
    "name": "ipython",
    "version": 3
   },
   "file_extension": ".py",
   "mimetype": "text/x-python",
   "name": "python",
   "nbconvert_exporter": "python",
   "pygments_lexer": "ipython3",
   "version": "3.10.6"
  }
 },
 "nbformat": 4,
 "nbformat_minor": 5
}
